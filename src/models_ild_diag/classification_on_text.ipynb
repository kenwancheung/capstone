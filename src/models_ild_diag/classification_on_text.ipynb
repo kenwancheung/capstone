{
 "cells": [
  {
   "cell_type": "code",
   "execution_count": 2,
   "metadata": {},
   "outputs": [],
   "source": [
    "import nltk as nltk\n",
    "import nltk.corpus  \n",
    "from nltk.text import Text\n",
    "from nltk.corpus import stopwords\n",
    "import pandas as pd\n",
    "import re\n",
    "import sys\n",
    "import matplotlib.pyplot as plt\n",
    "import numpy as np\n",
    "import scikitplot as skplt\n",
    "import glob\n",
    "import os\n",
    "import spacy\n",
    "from sklearn.model_selection import train_test_split\n",
    "from sklearn.feature_extraction.text import CountVectorizer, HashingVectorizer, TfidfTransformer, TfidfVectorizer\n",
    "from sklearn.naive_bayes import MultinomialNB\n",
    "from sklearn.metrics import classification_report, confusion_matrix, accuracy_score, roc_curve, roc_auc_score\n",
    "from sklearn.linear_model import LogisticRegression, SGDClassifier\n",
    "from sklearn import metrics\n",
    "from sklearn.neural_network import MLPClassifier"
   ]
  },
  {
   "cell_type": "markdown",
   "metadata": {},
   "source": [
    "### Read in data\n",
    "\n",
    "First section is only for the scored test set with generated summaries"
   ]
  },
  {
   "cell_type": "code",
   "execution_count": 3,
   "metadata": {},
   "outputs": [],
   "source": [
    "# get max csv\n",
    "# list_of_files = glob.glob('Z:/final_data/scored_data/scored_rouged_df*.csv') # * means all if need specific format then *.csv\n",
    "# ckpt_text = max(list_of_files, key=os.path.getctime)\n",
    "# print(ckpt_text)\n",
    "\n",
    "# read in actual notes\n",
    "# notes = pd.read_csv(ckpt_text,index_col=0,keep_default_na=False)"
   ]
  },
  {
   "cell_type": "code",
   "execution_count": 4,
   "metadata": {
    "scrolled": true
   },
   "outputs": [],
   "source": [
    "# notes.head()"
   ]
  },
  {
   "cell_type": "code",
   "execution_count": 5,
   "metadata": {
    "scrolled": false
   },
   "outputs": [
    {
     "name": "stderr",
     "output_type": "stream",
     "text": [
      "C:\\ProgramData\\Anaconda3\\lib\\site-packages\\IPython\\core\\interactiveshell.py:2728: DtypeWarning: Columns (1,69,325) have mixed types. Specify dtype option on import or set low_memory=False.\n",
      "  interactivity=interactivity, compiler=compiler, result=result)\n"
     ]
    }
   ],
   "source": [
    "# train dat\n",
    "train_dta = pd.read_csv(\"Z:/final_data/cohorts_merged_training.csv\",keep_default_na=False)"
   ]
  },
  {
   "cell_type": "code",
   "execution_count": 6,
   "metadata": {
    "scrolled": true
   },
   "outputs": [
    {
     "data": {
      "text/html": [
       "<div>\n",
       "<style scoped>\n",
       "    .dataframe tbody tr th:only-of-type {\n",
       "        vertical-align: middle;\n",
       "    }\n",
       "\n",
       "    .dataframe tbody tr th {\n",
       "        vertical-align: top;\n",
       "    }\n",
       "\n",
       "    .dataframe thead th {\n",
       "        text-align: right;\n",
       "    }\n",
       "</style>\n",
       "<table border=\"1\" class=\"dataframe\">\n",
       "  <thead>\n",
       "    <tr style=\"text-align: right;\">\n",
       "      <th></th>\n",
       "      <th>patient_id</th>\n",
       "      <th>age_at_last_encounter</th>\n",
       "      <th>gender</th>\n",
       "      <th>race</th>\n",
       "      <th>ethnicity</th>\n",
       "      <th>date_of_death</th>\n",
       "      <th>encounter_id</th>\n",
       "      <th>enc_eio</th>\n",
       "      <th>visit_status_1</th>\n",
       "      <th>visit_status_2</th>\n",
       "      <th>...</th>\n",
       "      <th>technique</th>\n",
       "      <th>comparison</th>\n",
       "      <th>findings</th>\n",
       "      <th>impressions</th>\n",
       "      <th>elecsig</th>\n",
       "      <th>patient_raw</th>\n",
       "      <th>rawtext</th>\n",
       "      <th>encounter_id_diagnosed</th>\n",
       "      <th>date_diagnosed</th>\n",
       "      <th>ild_status</th>\n",
       "    </tr>\n",
       "  </thead>\n",
       "  <tbody>\n",
       "    <tr>\n",
       "      <th>0</th>\n",
       "      <td>2068804</td>\n",
       "      <td>60</td>\n",
       "      <td>F</td>\n",
       "      <td>White</td>\n",
       "      <td>Not Hispanic or Latino</td>\n",
       "      <td></td>\n",
       "      <td>7629913</td>\n",
       "      <td>I</td>\n",
       "      <td>Completed</td>\n",
       "      <td></td>\n",
       "      <td>...</td>\n",
       "      <td>XR PORT CHEST 1V</td>\n",
       "      <td>None</td>\n",
       "      <td>Small lung volumes with bilateral airspace and...</td>\n",
       "      <td>Findings consistent with CHF/fluid overload.</td>\n",
       "      <td>**DATE&lt;[**2017-09-06**]&gt; 9:53 AM  **NAME&lt;EEE F...</td>\n",
       "      <td>7629913_446136</td>\n",
       "      <td>XR PORT CHEST 1V, **DATE&lt;[**2017-09-06**]&gt; 9:1...</td>\n",
       "      <td></td>\n",
       "      <td></td>\n",
       "      <td>0</td>\n",
       "    </tr>\n",
       "    <tr>\n",
       "      <th>1</th>\n",
       "      <td>2068842</td>\n",
       "      <td>54</td>\n",
       "      <td>M</td>\n",
       "      <td>Black/African-American</td>\n",
       "      <td>Not Hispanic or Latino</td>\n",
       "      <td></td>\n",
       "      <td>6781649</td>\n",
       "      <td>O</td>\n",
       "      <td>Completed</td>\n",
       "      <td></td>\n",
       "      <td>...</td>\n",
       "      <td></td>\n",
       "      <td></td>\n",
       "      <td></td>\n",
       "      <td></td>\n",
       "      <td></td>\n",
       "      <td></td>\n",
       "      <td></td>\n",
       "      <td></td>\n",
       "      <td></td>\n",
       "      <td>0</td>\n",
       "    </tr>\n",
       "    <tr>\n",
       "      <th>2</th>\n",
       "      <td>2068842</td>\n",
       "      <td>54</td>\n",
       "      <td>M</td>\n",
       "      <td>Black/African-American</td>\n",
       "      <td>Not Hispanic or Latino</td>\n",
       "      <td></td>\n",
       "      <td>6781649</td>\n",
       "      <td>O</td>\n",
       "      <td>Completed</td>\n",
       "      <td></td>\n",
       "      <td>...</td>\n",
       "      <td>Noncontrast thin section axial CT images of th...</td>\n",
       "      <td>None.</td>\n",
       "      <td>There is evidence of prior endoscopic surgery ...</td>\n",
       "      <td>1. Mild paranasal sinus disease including muco...</td>\n",
       "      <td>**DATE&lt;[**2017-09-06**]&gt; 1:36 PM **NAME&lt;ZZZ AA...</td>\n",
       "      <td>6781649_1155203</td>\n",
       "      <td>CT [**Company 1**] FUSION WO CONTRAST, **DATE&lt;...</td>\n",
       "      <td></td>\n",
       "      <td></td>\n",
       "      <td>0</td>\n",
       "    </tr>\n",
       "    <tr>\n",
       "      <th>3</th>\n",
       "      <td>2068842</td>\n",
       "      <td>54</td>\n",
       "      <td>M</td>\n",
       "      <td>Black/African-American</td>\n",
       "      <td>Not Hispanic or Latino</td>\n",
       "      <td></td>\n",
       "      <td>7649307</td>\n",
       "      <td>O</td>\n",
       "      <td>Completed</td>\n",
       "      <td></td>\n",
       "      <td>...</td>\n",
       "      <td></td>\n",
       "      <td></td>\n",
       "      <td></td>\n",
       "      <td></td>\n",
       "      <td></td>\n",
       "      <td></td>\n",
       "      <td></td>\n",
       "      <td></td>\n",
       "      <td></td>\n",
       "      <td>0</td>\n",
       "    </tr>\n",
       "    <tr>\n",
       "      <th>4</th>\n",
       "      <td>2068866</td>\n",
       "      <td>36</td>\n",
       "      <td>F</td>\n",
       "      <td>White</td>\n",
       "      <td>Hispanic or Latino</td>\n",
       "      <td></td>\n",
       "      <td>7589589</td>\n",
       "      <td>O</td>\n",
       "      <td>Completed</td>\n",
       "      <td></td>\n",
       "      <td>...</td>\n",
       "      <td>XR CHEST PA/LATERAL</td>\n",
       "      <td>None.</td>\n",
       "      <td>Right upper lobe resection via thoracotomy wit...</td>\n",
       "      <td>No significant abnormality.</td>\n",
       "      <td>**DATE&lt;[**2017-08-21**]&gt; 3:53 PM **NAME&lt;EEE FF...</td>\n",
       "      <td>7589589_108353</td>\n",
       "      <td>XR CHEST PA/LATERAL, **DATE&lt;[**2017-08-21**]&gt; ...</td>\n",
       "      <td></td>\n",
       "      <td></td>\n",
       "      <td>0</td>\n",
       "    </tr>\n",
       "  </tbody>\n",
       "</table>\n",
       "<p>5 rows × 341 columns</p>\n",
       "</div>"
      ],
      "text/plain": [
       "   patient_id age_at_last_encounter gender                    race  \\\n",
       "0     2068804                    60      F                   White   \n",
       "1     2068842                    54      M  Black/African-American   \n",
       "2     2068842                    54      M  Black/African-American   \n",
       "3     2068842                    54      M  Black/African-American   \n",
       "4     2068866                    36      F                   White   \n",
       "\n",
       "                ethnicity date_of_death  encounter_id enc_eio visit_status_1  \\\n",
       "0  Not Hispanic or Latino                     7629913       I      Completed   \n",
       "1  Not Hispanic or Latino                     6781649       O      Completed   \n",
       "2  Not Hispanic or Latino                     6781649       O      Completed   \n",
       "3  Not Hispanic or Latino                     7649307       O      Completed   \n",
       "4      Hispanic or Latino                     7589589       O      Completed   \n",
       "\n",
       "  visit_status_2    ...      \\\n",
       "0                   ...       \n",
       "1                   ...       \n",
       "2                   ...       \n",
       "3                   ...       \n",
       "4                   ...       \n",
       "\n",
       "                                           technique comparison  \\\n",
       "0                                   XR PORT CHEST 1V       None   \n",
       "1                                                                 \n",
       "2  Noncontrast thin section axial CT images of th...      None.   \n",
       "3                                                                 \n",
       "4                                XR CHEST PA/LATERAL      None.   \n",
       "\n",
       "                                            findings  \\\n",
       "0  Small lung volumes with bilateral airspace and...   \n",
       "1                                                      \n",
       "2  There is evidence of prior endoscopic surgery ...   \n",
       "3                                                      \n",
       "4  Right upper lobe resection via thoracotomy wit...   \n",
       "\n",
       "                                         impressions  \\\n",
       "0       Findings consistent with CHF/fluid overload.   \n",
       "1                                                      \n",
       "2  1. Mild paranasal sinus disease including muco...   \n",
       "3                                                      \n",
       "4                        No significant abnormality.   \n",
       "\n",
       "                                             elecsig       patient_raw  \\\n",
       "0  **DATE<[**2017-09-06**]> 9:53 AM  **NAME<EEE F...    7629913_446136   \n",
       "1                                                                        \n",
       "2  **DATE<[**2017-09-06**]> 1:36 PM **NAME<ZZZ AA...   6781649_1155203   \n",
       "3                                                                        \n",
       "4  **DATE<[**2017-08-21**]> 3:53 PM **NAME<EEE FF...    7589589_108353   \n",
       "\n",
       "                                             rawtext encounter_id_diagnosed  \\\n",
       "0  XR PORT CHEST 1V, **DATE<[**2017-09-06**]> 9:1...                          \n",
       "1                                                                             \n",
       "2  CT [**Company 1**] FUSION WO CONTRAST, **DATE<...                          \n",
       "3                                                                             \n",
       "4  XR CHEST PA/LATERAL, **DATE<[**2017-08-21**]> ...                          \n",
       "\n",
       "  date_diagnosed ild_status  \n",
       "0                         0  \n",
       "1                         0  \n",
       "2                         0  \n",
       "3                         0  \n",
       "4                         0  \n",
       "\n",
       "[5 rows x 341 columns]"
      ]
     },
     "execution_count": 6,
     "metadata": {},
     "output_type": "execute_result"
    }
   ],
   "source": [
    "train_dta.head()"
   ]
  },
  {
   "cell_type": "code",
   "execution_count": 7,
   "metadata": {},
   "outputs": [],
   "source": [
    "#Coalesce adm_date_d and start_date_d where no adm_date_d\n",
    "train_dta['init_date'] = np.where(train_dta['adm_date_d']=='', train_dta['start_date_d'], train_dta['adm_date_d'])"
   ]
  },
  {
   "cell_type": "code",
   "execution_count": 8,
   "metadata": {},
   "outputs": [],
   "source": [
    "# Set diagnosis at time of visit\n",
    "train_dta['ild_diag_prior_to_visit'] = np.where((train_dta['init_date'] < train_dta['date_diagnosed']) | (\n",
    "train_dta['date_diagnosed'] == ''), 0, 1)"
   ]
  },
  {
   "cell_type": "markdown",
   "metadata": {},
   "source": [
    "### Let's get only the rows with an impression to build off of. \n",
    "\n",
    "We'll need to grab the rows where the ild_diag_prior_to_visit is 0, and has a \"finding\""
   ]
  },
  {
   "cell_type": "code",
   "execution_count": 9,
   "metadata": {
    "scrolled": false
   },
   "outputs": [
    {
     "data": {
      "text/html": [
       "<div>\n",
       "<style scoped>\n",
       "    .dataframe tbody tr th:only-of-type {\n",
       "        vertical-align: middle;\n",
       "    }\n",
       "\n",
       "    .dataframe tbody tr th {\n",
       "        vertical-align: top;\n",
       "    }\n",
       "\n",
       "    .dataframe thead th {\n",
       "        text-align: right;\n",
       "    }\n",
       "</style>\n",
       "<table border=\"1\" class=\"dataframe\">\n",
       "  <thead>\n",
       "    <tr style=\"text-align: right;\">\n",
       "      <th></th>\n",
       "      <th>patient_id</th>\n",
       "      <th>age_at_last_encounter</th>\n",
       "      <th>gender</th>\n",
       "      <th>race</th>\n",
       "      <th>ethnicity</th>\n",
       "      <th>date_of_death</th>\n",
       "      <th>encounter_id</th>\n",
       "      <th>enc_eio</th>\n",
       "      <th>visit_status_1</th>\n",
       "      <th>visit_status_2</th>\n",
       "      <th>...</th>\n",
       "      <th>findings</th>\n",
       "      <th>impressions</th>\n",
       "      <th>elecsig</th>\n",
       "      <th>patient_raw</th>\n",
       "      <th>rawtext</th>\n",
       "      <th>encounter_id_diagnosed</th>\n",
       "      <th>date_diagnosed</th>\n",
       "      <th>ild_status</th>\n",
       "      <th>init_date</th>\n",
       "      <th>ild_diag_prior_to_visit</th>\n",
       "    </tr>\n",
       "  </thead>\n",
       "  <tbody>\n",
       "    <tr>\n",
       "      <th>0</th>\n",
       "      <td>2068804</td>\n",
       "      <td>60</td>\n",
       "      <td>F</td>\n",
       "      <td>White</td>\n",
       "      <td>Not Hispanic or Latino</td>\n",
       "      <td></td>\n",
       "      <td>7629913</td>\n",
       "      <td>I</td>\n",
       "      <td>Completed</td>\n",
       "      <td></td>\n",
       "      <td>...</td>\n",
       "      <td>Small lung volumes with bilateral airspace and...</td>\n",
       "      <td>Findings consistent with CHF/fluid overload.</td>\n",
       "      <td>**DATE&lt;[**2017-09-06**]&gt; 9:53 AM  **NAME&lt;EEE F...</td>\n",
       "      <td>7629913_446136</td>\n",
       "      <td>XR PORT CHEST 1V, **DATE&lt;[**2017-09-06**]&gt; 9:1...</td>\n",
       "      <td></td>\n",
       "      <td></td>\n",
       "      <td>0</td>\n",
       "      <td>2015-08-23</td>\n",
       "      <td>0</td>\n",
       "    </tr>\n",
       "    <tr>\n",
       "      <th>1</th>\n",
       "      <td>2068842</td>\n",
       "      <td>54</td>\n",
       "      <td>M</td>\n",
       "      <td>Black/African-American</td>\n",
       "      <td>Not Hispanic or Latino</td>\n",
       "      <td></td>\n",
       "      <td>6781649</td>\n",
       "      <td>O</td>\n",
       "      <td>Completed</td>\n",
       "      <td></td>\n",
       "      <td>...</td>\n",
       "      <td></td>\n",
       "      <td></td>\n",
       "      <td></td>\n",
       "      <td></td>\n",
       "      <td></td>\n",
       "      <td></td>\n",
       "      <td></td>\n",
       "      <td>0</td>\n",
       "      <td>2015-09-30</td>\n",
       "      <td>0</td>\n",
       "    </tr>\n",
       "    <tr>\n",
       "      <th>2</th>\n",
       "      <td>2068842</td>\n",
       "      <td>54</td>\n",
       "      <td>M</td>\n",
       "      <td>Black/African-American</td>\n",
       "      <td>Not Hispanic or Latino</td>\n",
       "      <td></td>\n",
       "      <td>6781649</td>\n",
       "      <td>O</td>\n",
       "      <td>Completed</td>\n",
       "      <td></td>\n",
       "      <td>...</td>\n",
       "      <td>There is evidence of prior endoscopic surgery ...</td>\n",
       "      <td>1. Mild paranasal sinus disease including muco...</td>\n",
       "      <td>**DATE&lt;[**2017-09-06**]&gt; 1:36 PM **NAME&lt;ZZZ AA...</td>\n",
       "      <td>6781649_1155203</td>\n",
       "      <td>CT [**Company 1**] FUSION WO CONTRAST, **DATE&lt;...</td>\n",
       "      <td></td>\n",
       "      <td></td>\n",
       "      <td>0</td>\n",
       "      <td>2015-09-30</td>\n",
       "      <td>0</td>\n",
       "    </tr>\n",
       "    <tr>\n",
       "      <th>3</th>\n",
       "      <td>2068842</td>\n",
       "      <td>54</td>\n",
       "      <td>M</td>\n",
       "      <td>Black/African-American</td>\n",
       "      <td>Not Hispanic or Latino</td>\n",
       "      <td></td>\n",
       "      <td>7649307</td>\n",
       "      <td>O</td>\n",
       "      <td>Completed</td>\n",
       "      <td></td>\n",
       "      <td>...</td>\n",
       "      <td></td>\n",
       "      <td></td>\n",
       "      <td></td>\n",
       "      <td></td>\n",
       "      <td></td>\n",
       "      <td></td>\n",
       "      <td></td>\n",
       "      <td>0</td>\n",
       "      <td>2015-09-18</td>\n",
       "      <td>0</td>\n",
       "    </tr>\n",
       "    <tr>\n",
       "      <th>4</th>\n",
       "      <td>2068866</td>\n",
       "      <td>36</td>\n",
       "      <td>F</td>\n",
       "      <td>White</td>\n",
       "      <td>Hispanic or Latino</td>\n",
       "      <td></td>\n",
       "      <td>7589589</td>\n",
       "      <td>O</td>\n",
       "      <td>Completed</td>\n",
       "      <td></td>\n",
       "      <td>...</td>\n",
       "      <td>Right upper lobe resection via thoracotomy wit...</td>\n",
       "      <td>No significant abnormality.</td>\n",
       "      <td>**DATE&lt;[**2017-08-21**]&gt; 3:53 PM **NAME&lt;EEE FF...</td>\n",
       "      <td>7589589_108353</td>\n",
       "      <td>XR CHEST PA/LATERAL, **DATE&lt;[**2017-08-21**]&gt; ...</td>\n",
       "      <td></td>\n",
       "      <td></td>\n",
       "      <td>0</td>\n",
       "      <td>2015-03-31</td>\n",
       "      <td>0</td>\n",
       "    </tr>\n",
       "  </tbody>\n",
       "</table>\n",
       "<p>5 rows × 343 columns</p>\n",
       "</div>"
      ],
      "text/plain": [
       "   patient_id age_at_last_encounter gender                    race  \\\n",
       "0     2068804                    60      F                   White   \n",
       "1     2068842                    54      M  Black/African-American   \n",
       "2     2068842                    54      M  Black/African-American   \n",
       "3     2068842                    54      M  Black/African-American   \n",
       "4     2068866                    36      F                   White   \n",
       "\n",
       "                ethnicity date_of_death  encounter_id enc_eio visit_status_1  \\\n",
       "0  Not Hispanic or Latino                     7629913       I      Completed   \n",
       "1  Not Hispanic or Latino                     6781649       O      Completed   \n",
       "2  Not Hispanic or Latino                     6781649       O      Completed   \n",
       "3  Not Hispanic or Latino                     7649307       O      Completed   \n",
       "4      Hispanic or Latino                     7589589       O      Completed   \n",
       "\n",
       "  visit_status_2           ...            \\\n",
       "0                          ...             \n",
       "1                          ...             \n",
       "2                          ...             \n",
       "3                          ...             \n",
       "4                          ...             \n",
       "\n",
       "                                            findings  \\\n",
       "0  Small lung volumes with bilateral airspace and...   \n",
       "1                                                      \n",
       "2  There is evidence of prior endoscopic surgery ...   \n",
       "3                                                      \n",
       "4  Right upper lobe resection via thoracotomy wit...   \n",
       "\n",
       "                                         impressions  \\\n",
       "0       Findings consistent with CHF/fluid overload.   \n",
       "1                                                      \n",
       "2  1. Mild paranasal sinus disease including muco...   \n",
       "3                                                      \n",
       "4                        No significant abnormality.   \n",
       "\n",
       "                                             elecsig       patient_raw  \\\n",
       "0  **DATE<[**2017-09-06**]> 9:53 AM  **NAME<EEE F...    7629913_446136   \n",
       "1                                                                        \n",
       "2  **DATE<[**2017-09-06**]> 1:36 PM **NAME<ZZZ AA...   6781649_1155203   \n",
       "3                                                                        \n",
       "4  **DATE<[**2017-08-21**]> 3:53 PM **NAME<EEE FF...    7589589_108353   \n",
       "\n",
       "                                             rawtext encounter_id_diagnosed  \\\n",
       "0  XR PORT CHEST 1V, **DATE<[**2017-09-06**]> 9:1...                          \n",
       "1                                                                             \n",
       "2  CT [**Company 1**] FUSION WO CONTRAST, **DATE<...                          \n",
       "3                                                                             \n",
       "4  XR CHEST PA/LATERAL, **DATE<[**2017-08-21**]> ...                          \n",
       "\n",
       "  date_diagnosed ild_status   init_date ild_diag_prior_to_visit  \n",
       "0                         0  2015-08-23                       0  \n",
       "1                         0  2015-09-30                       0  \n",
       "2                         0  2015-09-30                       0  \n",
       "3                         0  2015-09-18                       0  \n",
       "4                         0  2015-03-31                       0  \n",
       "\n",
       "[5 rows x 343 columns]"
      ]
     },
     "execution_count": 9,
     "metadata": {},
     "output_type": "execute_result"
    }
   ],
   "source": [
    "train_dta.head().loc[train_dta.findings.notnull()]"
   ]
  },
  {
   "cell_type": "code",
   "execution_count": 10,
   "metadata": {
    "scrolled": true
   },
   "outputs": [
    {
     "data": {
      "text/plain": [
       "(357178, 343)"
      ]
     },
     "execution_count": 10,
     "metadata": {},
     "output_type": "execute_result"
    }
   ],
   "source": [
    "train_dta_ild = train_dta[(train_dta.ild_diag_prior_to_visit==0) & (train_dta.findings.str.len()>0)]\n",
    "train_dta_ild.shape"
   ]
  },
  {
   "cell_type": "code",
   "execution_count": 11,
   "metadata": {},
   "outputs": [
    {
     "data": {
      "text/plain": [
       "(887297, 343)"
      ]
     },
     "execution_count": 11,
     "metadata": {},
     "output_type": "execute_result"
    }
   ],
   "source": [
    "train_dta[(train_dta.ild_diag_prior_to_visit==0)].shape"
   ]
  },
  {
   "cell_type": "markdown",
   "metadata": {},
   "source": [
    "### Spacy cleaning\n",
    "\n",
    "Note english language is not installed. Somebody with sudo needs to run:\n",
    "\n",
    "python -m spacy download en\n",
    "\n",
    "@chantel Please submit a ticket"
   ]
  },
  {
   "cell_type": "raw",
   "metadata": {},
   "source": [
    "# import nltk\n",
    "# nltk.download('stopwords')"
   ]
  },
  {
   "cell_type": "code",
   "execution_count": 12,
   "metadata": {
    "scrolled": true
   },
   "outputs": [
    {
     "name": "stderr",
     "output_type": "stream",
     "text": [
      "C:\\ProgramData\\Anaconda3\\lib\\site-packages\\ipykernel_launcher.py:16: SettingWithCopyWarning: \n",
      "A value is trying to be set on a copy of a slice from a DataFrame.\n",
      "Try using .loc[row_indexer,col_indexer] = value instead\n",
      "\n",
      "See the caveats in the documentation: http://pandas.pydata.org/pandas-docs/stable/indexing.html#indexing-view-versus-copy\n",
      "  app.launch_new_instance()\n"
     ]
    }
   ],
   "source": [
    "nlp = spacy.load(\"en\", disable=['parser', 'tagger', 'ner'])\n",
    "stops = stopwords.words(\"english\")\n",
    "\n",
    "def normalize(comment, lowercase, remove_stopwords):\n",
    "    if lowercase:\n",
    "        comment = comment.lower()\n",
    "    comment = nlp(comment)\n",
    "    lemmatized = list()\n",
    "    for word in comment:\n",
    "        lemma = word.lemma_.strip()\n",
    "        if lemma:\n",
    "            if not remove_stopwords or (remove_stopwords and lemma not in stops):\n",
    "                lemmatized.append(lemma)\n",
    "    return \" \".join(lemmatized)\n",
    "\n",
    "train_dta_ild['findings_cleaned'] = train_dta_ild['findings'].apply(normalize,lowercase=True,remove_stopwords=True)"
   ]
  },
  {
   "cell_type": "code",
   "execution_count": 13,
   "metadata": {},
   "outputs": [],
   "source": [
    "train_dta_ild.to_csv('train_dta_ild.csv')"
   ]
  },
  {
   "cell_type": "code",
   "execution_count": 14,
   "metadata": {
    "scrolled": true
   },
   "outputs": [
    {
     "data": {
      "text/html": [
       "<div>\n",
       "<style scoped>\n",
       "    .dataframe tbody tr th:only-of-type {\n",
       "        vertical-align: middle;\n",
       "    }\n",
       "\n",
       "    .dataframe tbody tr th {\n",
       "        vertical-align: top;\n",
       "    }\n",
       "\n",
       "    .dataframe thead th {\n",
       "        text-align: right;\n",
       "    }\n",
       "</style>\n",
       "<table border=\"1\" class=\"dataframe\">\n",
       "  <thead>\n",
       "    <tr style=\"text-align: right;\">\n",
       "      <th></th>\n",
       "      <th>patient_id</th>\n",
       "      <th>age_at_last_encounter</th>\n",
       "      <th>gender</th>\n",
       "      <th>race</th>\n",
       "      <th>ethnicity</th>\n",
       "      <th>date_of_death</th>\n",
       "      <th>encounter_id</th>\n",
       "      <th>enc_eio</th>\n",
       "      <th>visit_status_1</th>\n",
       "      <th>visit_status_2</th>\n",
       "      <th>...</th>\n",
       "      <th>impressions</th>\n",
       "      <th>elecsig</th>\n",
       "      <th>patient_raw</th>\n",
       "      <th>rawtext</th>\n",
       "      <th>encounter_id_diagnosed</th>\n",
       "      <th>date_diagnosed</th>\n",
       "      <th>ild_status</th>\n",
       "      <th>init_date</th>\n",
       "      <th>ild_diag_prior_to_visit</th>\n",
       "      <th>findings_cleaned</th>\n",
       "    </tr>\n",
       "  </thead>\n",
       "  <tbody>\n",
       "    <tr>\n",
       "      <th>0</th>\n",
       "      <td>2068804</td>\n",
       "      <td>60</td>\n",
       "      <td>F</td>\n",
       "      <td>White</td>\n",
       "      <td>Not Hispanic or Latino</td>\n",
       "      <td></td>\n",
       "      <td>7629913</td>\n",
       "      <td>I</td>\n",
       "      <td>Completed</td>\n",
       "      <td></td>\n",
       "      <td>...</td>\n",
       "      <td>Findings consistent with CHF/fluid overload.</td>\n",
       "      <td>**DATE&lt;[**2017-09-06**]&gt; 9:53 AM  **NAME&lt;EEE F...</td>\n",
       "      <td>7629913_446136</td>\n",
       "      <td>XR PORT CHEST 1V, **DATE&lt;[**2017-09-06**]&gt; 9:1...</td>\n",
       "      <td></td>\n",
       "      <td></td>\n",
       "      <td>0</td>\n",
       "      <td>2015-08-23</td>\n",
       "      <td>0</td>\n",
       "      <td>small lung volume bilateral airspace interstit...</td>\n",
       "    </tr>\n",
       "    <tr>\n",
       "      <th>2</th>\n",
       "      <td>2068842</td>\n",
       "      <td>54</td>\n",
       "      <td>M</td>\n",
       "      <td>Black/African-American</td>\n",
       "      <td>Not Hispanic or Latino</td>\n",
       "      <td></td>\n",
       "      <td>6781649</td>\n",
       "      <td>O</td>\n",
       "      <td>Completed</td>\n",
       "      <td></td>\n",
       "      <td>...</td>\n",
       "      <td>1. Mild paranasal sinus disease including muco...</td>\n",
       "      <td>**DATE&lt;[**2017-09-06**]&gt; 1:36 PM **NAME&lt;ZZZ AA...</td>\n",
       "      <td>6781649_1155203</td>\n",
       "      <td>CT [**Company 1**] FUSION WO CONTRAST, **DATE&lt;...</td>\n",
       "      <td></td>\n",
       "      <td></td>\n",
       "      <td>0</td>\n",
       "      <td>2015-09-30</td>\n",
       "      <td>0</td>\n",
       "      <td>evidence prior endoscopic surgery include leav...</td>\n",
       "    </tr>\n",
       "    <tr>\n",
       "      <th>4</th>\n",
       "      <td>2068866</td>\n",
       "      <td>36</td>\n",
       "      <td>F</td>\n",
       "      <td>White</td>\n",
       "      <td>Hispanic or Latino</td>\n",
       "      <td></td>\n",
       "      <td>7589589</td>\n",
       "      <td>O</td>\n",
       "      <td>Completed</td>\n",
       "      <td></td>\n",
       "      <td>...</td>\n",
       "      <td>No significant abnormality.</td>\n",
       "      <td>**DATE&lt;[**2017-08-21**]&gt; 3:53 PM **NAME&lt;EEE FF...</td>\n",
       "      <td>7589589_108353</td>\n",
       "      <td>XR CHEST PA/LATERAL, **DATE&lt;[**2017-08-21**]&gt; ...</td>\n",
       "      <td></td>\n",
       "      <td></td>\n",
       "      <td>0</td>\n",
       "      <td>2015-03-31</td>\n",
       "      <td>0</td>\n",
       "      <td>right upper lobe resection via thoracotomy cli...</td>\n",
       "    </tr>\n",
       "    <tr>\n",
       "      <th>6</th>\n",
       "      <td>2068882</td>\n",
       "      <td>28</td>\n",
       "      <td>M</td>\n",
       "      <td>Black/African-American</td>\n",
       "      <td>Not Hispanic or Latino</td>\n",
       "      <td></td>\n",
       "      <td>6168287</td>\n",
       "      <td>E</td>\n",
       "      <td>Completed</td>\n",
       "      <td>Canceled</td>\n",
       "      <td>...</td>\n",
       "      <td>No significant abnormality.</td>\n",
       "      <td>**DATE&lt;[**2017-09-05**]&gt; 10:19 AM **NAME&lt;GGG H...</td>\n",
       "      <td>6168287_509640</td>\n",
       "      <td>XR CHEST PA/LATERAL, **DATE&lt;[**2017-09-05**]&gt; ...</td>\n",
       "      <td></td>\n",
       "      <td></td>\n",
       "      <td>0</td>\n",
       "      <td>2015-03-27</td>\n",
       "      <td>0</td>\n",
       "      <td>significant pleural parenchymal abnormality . ...</td>\n",
       "    </tr>\n",
       "    <tr>\n",
       "      <th>8</th>\n",
       "      <td>2068889</td>\n",
       "      <td>57</td>\n",
       "      <td>F</td>\n",
       "      <td>Black/African-American</td>\n",
       "      <td>Not Hispanic or Latino</td>\n",
       "      <td></td>\n",
       "      <td>6336463</td>\n",
       "      <td>E</td>\n",
       "      <td>Completed</td>\n",
       "      <td></td>\n",
       "      <td>...</td>\n",
       "      <td>No evidence of intracranial hemorrhage.</td>\n",
       "      <td>**DATE&lt;[**2017-08-21**]&gt; 8:16 AM **NAME&lt;SSS TT...</td>\n",
       "      <td>6336463_568512</td>\n",
       "      <td>CT HEAD WO, **DATE&lt;[**2017-08-20**]&gt; 10:25 PM ...</td>\n",
       "      <td></td>\n",
       "      <td></td>\n",
       "      <td>0</td>\n",
       "      <td>2015-04-07</td>\n",
       "      <td>0</td>\n",
       "      <td>intracranial hemorrhage identify . intracrania...</td>\n",
       "    </tr>\n",
       "  </tbody>\n",
       "</table>\n",
       "<p>5 rows × 344 columns</p>\n",
       "</div>"
      ],
      "text/plain": [
       "   patient_id age_at_last_encounter gender                    race  \\\n",
       "0     2068804                    60      F                   White   \n",
       "2     2068842                    54      M  Black/African-American   \n",
       "4     2068866                    36      F                   White   \n",
       "6     2068882                    28      M  Black/African-American   \n",
       "8     2068889                    57      F  Black/African-American   \n",
       "\n",
       "                ethnicity date_of_death  encounter_id enc_eio visit_status_1  \\\n",
       "0  Not Hispanic or Latino                     7629913       I      Completed   \n",
       "2  Not Hispanic or Latino                     6781649       O      Completed   \n",
       "4      Hispanic or Latino                     7589589       O      Completed   \n",
       "6  Not Hispanic or Latino                     6168287       E      Completed   \n",
       "8  Not Hispanic or Latino                     6336463       E      Completed   \n",
       "\n",
       "  visit_status_2                        ...                          \\\n",
       "0                                       ...                           \n",
       "2                                       ...                           \n",
       "4                                       ...                           \n",
       "6       Canceled                        ...                           \n",
       "8                                       ...                           \n",
       "\n",
       "                                         impressions  \\\n",
       "0       Findings consistent with CHF/fluid overload.   \n",
       "2  1. Mild paranasal sinus disease including muco...   \n",
       "4                        No significant abnormality.   \n",
       "6                        No significant abnormality.   \n",
       "8            No evidence of intracranial hemorrhage.   \n",
       "\n",
       "                                             elecsig       patient_raw  \\\n",
       "0  **DATE<[**2017-09-06**]> 9:53 AM  **NAME<EEE F...    7629913_446136   \n",
       "2  **DATE<[**2017-09-06**]> 1:36 PM **NAME<ZZZ AA...   6781649_1155203   \n",
       "4  **DATE<[**2017-08-21**]> 3:53 PM **NAME<EEE FF...    7589589_108353   \n",
       "6  **DATE<[**2017-09-05**]> 10:19 AM **NAME<GGG H...    6168287_509640   \n",
       "8  **DATE<[**2017-08-21**]> 8:16 AM **NAME<SSS TT...    6336463_568512   \n",
       "\n",
       "                                             rawtext encounter_id_diagnosed  \\\n",
       "0  XR PORT CHEST 1V, **DATE<[**2017-09-06**]> 9:1...                          \n",
       "2  CT [**Company 1**] FUSION WO CONTRAST, **DATE<...                          \n",
       "4  XR CHEST PA/LATERAL, **DATE<[**2017-08-21**]> ...                          \n",
       "6  XR CHEST PA/LATERAL, **DATE<[**2017-09-05**]> ...                          \n",
       "8  CT HEAD WO, **DATE<[**2017-08-20**]> 10:25 PM ...                          \n",
       "\n",
       "  date_diagnosed ild_status   init_date ild_diag_prior_to_visit  \\\n",
       "0                         0  2015-08-23                       0   \n",
       "2                         0  2015-09-30                       0   \n",
       "4                         0  2015-03-31                       0   \n",
       "6                         0  2015-03-27                       0   \n",
       "8                         0  2015-04-07                       0   \n",
       "\n",
       "                                    findings_cleaned  \n",
       "0  small lung volume bilateral airspace interstit...  \n",
       "2  evidence prior endoscopic surgery include leav...  \n",
       "4  right upper lobe resection via thoracotomy cli...  \n",
       "6  significant pleural parenchymal abnormality . ...  \n",
       "8  intracranial hemorrhage identify . intracrania...  \n",
       "\n",
       "[5 rows x 344 columns]"
      ]
     },
     "execution_count": 14,
     "metadata": {},
     "output_type": "execute_result"
    }
   ],
   "source": [
    "train_dta_ild.head()"
   ]
  },
  {
   "cell_type": "markdown",
   "metadata": {},
   "source": [
    "### Set up data for modeling"
   ]
  },
  {
   "cell_type": "code",
   "execution_count": 15,
   "metadata": {},
   "outputs": [
    {
     "name": "stdout",
     "output_type": "stream",
     "text": [
      "(357178,)\n",
      "(357178,)\n"
     ]
    }
   ],
   "source": [
    "X = np.array(train_dta_ild['findings_cleaned'])\n",
    "Y = np.array(train_dta_ild['ild_status'])\n",
    "print(X.shape)\n",
    "print(Y.shape)\n"
   ]
  },
  {
   "cell_type": "code",
   "execution_count": 16,
   "metadata": {},
   "outputs": [
    {
     "name": "stdout",
     "output_type": "stream",
     "text": [
      "(267883,)\n",
      "(89295,)\n"
     ]
    }
   ],
   "source": [
    "X_train, X_test, Y_train, Y_test = train_test_split(X,Y,random_state=1)\n",
    "print(X_train.shape)\n",
    "print(X_test.shape)\n"
   ]
  },
  {
   "cell_type": "code",
   "execution_count": 17,
   "metadata": {},
   "outputs": [
    {
     "name": "stdout",
     "output_type": "stream",
     "text": [
      "Wall time: 26 s\n"
     ]
    }
   ],
   "source": [
    "vect = CountVectorizer()\n",
    "vect.fit(X_train)\n",
    "%time X_train_dtm = vect.transform(X_train)\n"
   ]
  },
  {
   "cell_type": "code",
   "execution_count": 18,
   "metadata": {
    "scrolled": true
   },
   "outputs": [
    {
     "data": {
      "text/plain": [
       "<89295x18726 sparse matrix of type '<class 'numpy.int64'>'\n",
       "\twith 4186426 stored elements in Compressed Sparse Row format>"
      ]
     },
     "execution_count": 18,
     "metadata": {},
     "output_type": "execute_result"
    }
   ],
   "source": [
    "# test\n",
    "X_test_dtm = vect.transform(np.array(X_test))\n",
    "X_test_dtm\n"
   ]
  },
  {
   "cell_type": "markdown",
   "metadata": {},
   "source": [
    "## Model building"
   ]
  },
  {
   "cell_type": "markdown",
   "metadata": {},
   "source": [
    "#### Naive bayes"
   ]
  },
  {
   "cell_type": "code",
   "execution_count": 19,
   "metadata": {},
   "outputs": [
    {
     "name": "stdout",
     "output_type": "stream",
     "text": [
      "Wall time: 359 ms\n"
     ]
    },
    {
     "data": {
      "text/plain": [
       "MultinomialNB(alpha=1.0, class_prior=None, fit_prior=True)"
      ]
     },
     "execution_count": 19,
     "metadata": {},
     "output_type": "execute_result"
    }
   ],
   "source": [
    "nb = MultinomialNB()\n",
    "# train and time the model using X_train_dtm\n",
    "%time nb.fit(X_train_dtm, Y_train)"
   ]
  },
  {
   "cell_type": "code",
   "execution_count": 20,
   "metadata": {},
   "outputs": [
    {
     "name": "stdout",
     "output_type": "stream",
     "text": [
      "0.6462735875468951\n"
     ]
    }
   ],
   "source": [
    "# class preds\n",
    "Y_pred_class_nb = nb.predict(X_test_dtm)\n",
    "\n",
    "# calculate accuracy of class predictions\n",
    "print(metrics.accuracy_score(Y_test, Y_pred_class_nb))"
   ]
  },
  {
   "cell_type": "code",
   "execution_count": 21,
   "metadata": {
    "scrolled": true
   },
   "outputs": [
    {
     "name": "stdout",
     "output_type": "stream",
     "text": [
      "             precision    recall  f1-score   support\n",
      "\n",
      "          0       0.98      0.65      0.78     86667\n",
      "          1       0.05      0.66      0.10      2628\n",
      "\n",
      "avg / total       0.96      0.65      0.76     89295\n",
      "\n",
      "[[55963 30704]\n",
      " [  882  1746]]\n"
     ]
    },
    {
     "data": {
      "image/png": "[encoded data removed]",
      "text/plain": [
       "<matplotlib.figure.Figure at 0x1005ffb17f0>"
      ]
     },
     "metadata": {},
     "output_type": "display_data"
    },
    {
     "name": "stdout",
     "output_type": "stream",
     "text": [
      "AUC: 0.34494599941738896\n"
     ]
    }
   ],
   "source": [
    "# calculate precision and recall\n",
    "print(classification_report(Y_test, Y_pred_class_nb))\n",
    "\n",
    "# calculate the confusion matrix\n",
    "print(metrics.confusion_matrix(Y_test, Y_pred_class_nb))\n",
    "\n",
    "fpr, tpr, thresholds = metrics.roc_curve(Y_test, Y_pred_class_nb, pos_label=0)\n",
    "\n",
    "# Print ROC curve\n",
    "plt.plot(fpr,tpr)\n",
    "plt.show() \n",
    "\n",
    "# Print AUC\n",
    "auc = np.trapz(tpr,fpr)\n",
    "print('AUC:', auc)"
   ]
  },
  {
   "cell_type": "markdown",
   "metadata": {},
   "source": [
    "### Logit"
   ]
  },
  {
   "cell_type": "code",
   "execution_count": 22,
   "metadata": {},
   "outputs": [
    {
     "name": "stdout",
     "output_type": "stream",
     "text": [
      "Wall time: 6min 9s\n"
     ]
    },
    {
     "data": {
      "text/plain": [
       "LogisticRegression(C=1.0, class_weight=None, dual=False, fit_intercept=True,\n",
       "          intercept_scaling=1, max_iter=100, multi_class='ovr', n_jobs=1,\n",
       "          penalty='l2', random_state=None, solver='liblinear', tol=0.0001,\n",
       "          verbose=0, warm_start=False)"
      ]
     },
     "execution_count": 22,
     "metadata": {},
     "output_type": "execute_result"
    }
   ],
   "source": [
    "from sklearn import metrics\n",
    "logit = LogisticRegression()\n",
    "%time logit.fit(X_train_dtm, Y_train)"
   ]
  },
  {
   "cell_type": "code",
   "execution_count": 23,
   "metadata": {},
   "outputs": [
    {
     "name": "stdout",
     "output_type": "stream",
     "text": [
      "Logit predictive accuracy: 0.97\n"
     ]
    }
   ],
   "source": [
    "### training took about 20 min\n",
    "\n",
    "y_pred = logit.predict(X_test_dtm)\n",
    "print('Logit predictive accuracy: {:.2f}'.format(logit.score(X_test_dtm, Y_test)))"
   ]
  },
  {
   "cell_type": "code",
   "execution_count": 24,
   "metadata": {},
   "outputs": [
    {
     "name": "stdout",
     "output_type": "stream",
     "text": [
      "0.9700431155159863\n"
     ]
    }
   ],
   "source": [
    "# calculate accuracy of class predictions\n",
    "print(metrics.accuracy_score(Y_test, y_pred))"
   ]
  },
  {
   "cell_type": "code",
   "execution_count": 25,
   "metadata": {
    "scrolled": true
   },
   "outputs": [
    {
     "name": "stdout",
     "output_type": "stream",
     "text": [
      "             precision    recall  f1-score   support\n",
      "\n",
      "          0       0.97      1.00      0.98     86667\n",
      "          1       0.39      0.03      0.06      2628\n",
      "\n",
      "avg / total       0.95      0.97      0.96     89295\n",
      "\n",
      "[[86536   131]\n",
      " [ 2544    84]]\n"
     ]
    }
   ],
   "source": [
    "# calculate precision and recall\n",
    "print(classification_report(Y_test, y_pred))\n",
    "\n",
    "# calculate the confusion matrix\n",
    "logit_conf_mat = metrics.confusion_matrix(Y_test, y_pred)\n",
    "print(logit_conf_mat)\n"
   ]
  },
  {
   "cell_type": "code",
   "execution_count": 26,
   "metadata": {},
   "outputs": [],
   "source": [
    "# TODO"
   ]
  },
  {
   "cell_type": "markdown",
   "metadata": {},
   "source": [
    "chantel # TODO\n",
    "model score is high also perhaps due to class imbalance, will consider sampling methods to simulate more balanced classes"
   ]
  },
  {
   "cell_type": "code",
   "execution_count": 27,
   "metadata": {},
   "outputs": [
    {
     "data": {
      "image/png": "[encoded data removed]",
      "text/plain": [
       "<matplotlib.figure.Figure at 0x10064695c88>"
      ]
     },
     "metadata": {},
     "output_type": "display_data"
    }
   ],
   "source": [
    "logit_roc_auc = metrics.roc_auc_score(Y_test, y_pred)\n",
    "fpr_logit, tpr_logit, thresholds_logit = metrics.roc_curve(Y_test, logit.predict_proba(X_test_dtm)[:,1])\n",
    "plt.figure()\n",
    "plt.plot(fpr_logit, tpr_logit, label='Logistic Regression (area = %0.2f)' % logit_roc_auc)\n",
    "plt.plot([0, 1], [0, 1],'r--')\n",
    "plt.xlim([0.0, 1.0])\n",
    "plt.ylim([0.0, 1.05])\n",
    "plt.xlabel('False Positive Rate')\n",
    "plt.ylabel('True Positive Rate')\n",
    "plt.title('Receiver operating characteristic')\n",
    "plt.legend(loc=\"lower right\")\n",
    "plt.savefig('Log_ROC')\n",
    "plt.show()"
   ]
  },
  {
   "cell_type": "markdown",
   "metadata": {},
   "source": [
    "### Tree Tree Tree"
   ]
  },
  {
   "cell_type": "code",
   "execution_count": 28,
   "metadata": {},
   "outputs": [],
   "source": [
    "from sklearn import tree\n",
    "dt = tree.DecisionTreeClassifier()\n",
    "dt = dt.fit(X_train_dtm, Y_train)"
   ]
  },
  {
   "cell_type": "code",
   "execution_count": 29,
   "metadata": {},
   "outputs": [
    {
     "name": "stdout",
     "output_type": "stream",
     "text": [
      "Decision tree predictive accuracy: 0.95\n"
     ]
    }
   ],
   "source": [
    "### training took < 20 min\n",
    "\n",
    "y_pred_dt = dt.predict(X_test_dtm)\n",
    "print('Decision tree predictive accuracy: {:.2f}'.format(dt.score(X_test_dtm, Y_test)))"
   ]
  },
  {
   "cell_type": "code",
   "execution_count": 30,
   "metadata": {},
   "outputs": [
    {
     "name": "stdout",
     "output_type": "stream",
     "text": [
      "             precision    recall  f1-score   support\n",
      "\n",
      "          0       0.97      0.98      0.98     86667\n",
      "          1       0.17      0.15      0.16      2628\n",
      "\n",
      "avg / total       0.95      0.95      0.95     89295\n",
      "\n",
      "[[84717  1950]\n",
      " [ 2224   404]]\n"
     ]
    }
   ],
   "source": [
    "# calculate precision and recall\n",
    "print(classification_report(Y_test, y_pred_dt))\n",
    "\n",
    "# calculate the confusion matrix\n",
    "dt_conf_mat = metrics.confusion_matrix(Y_test, y_pred_dt)\n",
    "print(dt_conf_mat)\n"
   ]
  },
  {
   "cell_type": "code",
   "execution_count": 31,
   "metadata": {
    "scrolled": true
   },
   "outputs": [
    {
     "data": {
      "image/png": "[encoded data removed]",
      "text/plain": [
       "<matplotlib.figure.Figure at 0x10022e97898>"
      ]
     },
     "metadata": {},
     "output_type": "display_data"
    }
   ],
   "source": [
    "dt_roc_auc = metrics.roc_auc_score(Y_test, y_pred_dt)\n",
    "fpr_dt, tpr_dt, thresholds_dt = metrics.roc_curve(Y_test, dt.predict_proba(X_test_dtm)[:,1])\n",
    "plt.figure()\n",
    "plt.plot(fpr_dt, tpr_dt, label='Decision Tree (area = %0.2f)' % dt_roc_auc)\n",
    "plt.plot([0, 1], [0, 1],'r--')\n",
    "plt.xlim([0.0, 1.0])\n",
    "plt.ylim([0.0, 1.05])\n",
    "plt.xlabel('False Positive Rate')\n",
    "plt.ylabel('True Positive Rate')\n",
    "plt.title('Receiver operating characteristic')\n",
    "plt.legend(loc=\"lower right\")\n",
    "plt.savefig('DT_ROC')\n",
    "plt.show()"
   ]
  },
  {
   "cell_type": "markdown",
   "metadata": {},
   "source": [
    "## Class Sizes"
   ]
  },
  {
   "cell_type": "code",
   "execution_count": 32,
   "metadata": {},
   "outputs": [
    {
     "data": {
      "text/plain": [
       "0.028044840387705848"
      ]
     },
     "execution_count": 32,
     "metadata": {},
     "output_type": "execute_result"
    }
   ],
   "source": [
    "len(train_dta_ild[(train_dta_ild['ild_status']==1)])/len(train_dta_ild)"
   ]
  },
  {
   "cell_type": "code",
   "execution_count": 33,
   "metadata": {},
   "outputs": [
    {
     "data": {
      "text/plain": [
       "347161"
      ]
     },
     "execution_count": 33,
     "metadata": {},
     "output_type": "execute_result"
    }
   ],
   "source": [
    "len(train_dta_ild[(train_dta_ild['ild_status']==0)])"
   ]
  },
  {
   "cell_type": "code",
   "execution_count": 34,
   "metadata": {
    "scrolled": true
   },
   "outputs": [
    {
     "data": {
      "text/plain": [
       "1    347161\n",
       "0    347161\n",
       "Name: ild_status, dtype: int64"
      ]
     },
     "execution_count": 34,
     "metadata": {},
     "output_type": "execute_result"
    }
   ],
   "source": [
    "from sklearn import utils\n",
    "# Separate majority and minority classes\n",
    "df_majority = train_dta_ild[train_dta_ild['ild_status']==0]\n",
    "df_minority = train_dta_ild[train_dta_ild['ild_status']==1]\n",
    " \n",
    "# Upsample minority class\n",
    "df_minority_upsampled = utils.resample(df_minority, \n",
    "                                 replace=True,     # sample with replacement\n",
    "                                 n_samples=347161,    # to match majority class\n",
    "                                 random_state=123) # reproducible results\n",
    " \n",
    "# Combine majority class with upsampled minority class\n",
    "df_upsampled = pd.concat([df_majority, df_minority_upsampled])\n",
    " \n",
    "# Display new class counts\n",
    "df_upsampled['ild_status'].value_counts()"
   ]
  },
  {
   "cell_type": "markdown",
   "metadata": {},
   "source": [
    "### Redoing train/test setup with upsampled data"
   ]
  },
  {
   "cell_type": "code",
   "execution_count": 35,
   "metadata": {},
   "outputs": [],
   "source": [
    "X_us = np.array(df_upsampled.findings)\n",
    "Y_us = np.array(df_upsampled.ild_status)"
   ]
  },
  {
   "cell_type": "code",
   "execution_count": 36,
   "metadata": {},
   "outputs": [
    {
     "name": "stdout",
     "output_type": "stream",
     "text": [
      "(520741,)\n",
      "(520741,)\n"
     ]
    }
   ],
   "source": [
    "X_train_us, X_test_us, Y_train_us, Y_test_us = train_test_split(X_us,Y_us,random_state=1)\n",
    "print(X_train_us.shape)\n",
    "print(Y_train_us.shape)\n"
   ]
  },
  {
   "cell_type": "code",
   "execution_count": 37,
   "metadata": {},
   "outputs": [],
   "source": [
    "vect_us = CountVectorizer()\n",
    "vect_us.fit(X_train_us)\n",
    "X_train_dtm_us = vect.transform(X_train_us)\n"
   ]
  },
  {
   "cell_type": "code",
   "execution_count": 38,
   "metadata": {},
   "outputs": [
    {
     "data": {
      "text/plain": [
       "<173581x18726 sparse matrix of type '<class 'numpy.int64'>'\n",
       "\twith 8584376 stored elements in Compressed Sparse Row format>"
      ]
     },
     "execution_count": 38,
     "metadata": {},
     "output_type": "execute_result"
    }
   ],
   "source": [
    "# test\n",
    "X_test_dtm_us = vect.transform(np.array(X_test_us))\n",
    "X_test_dtm_us\n"
   ]
  },
  {
   "cell_type": "markdown",
   "metadata": {},
   "source": [
    "### Logit with Upsampled Data"
   ]
  },
  {
   "cell_type": "code",
   "execution_count": 39,
   "metadata": {
    "scrolled": true
   },
   "outputs": [
    {
     "name": "stdout",
     "output_type": "stream",
     "text": [
      "Wall time: 49min 25s\n"
     ]
    },
    {
     "data": {
      "text/plain": [
       "LogisticRegression(C=1.0, class_weight=None, dual=False, fit_intercept=True,\n",
       "          intercept_scaling=1, max_iter=100, multi_class='ovr', n_jobs=1,\n",
       "          penalty='l2', random_state=None, solver='liblinear', tol=0.0001,\n",
       "          verbose=0, warm_start=False)"
      ]
     },
     "execution_count": 39,
     "metadata": {},
     "output_type": "execute_result"
    }
   ],
   "source": [
    "logit_us = LogisticRegression()\n",
    "%time logit_us.fit(X_train_dtm_us, Y_train_us)"
   ]
  },
  {
   "cell_type": "code",
   "execution_count": 40,
   "metadata": {},
   "outputs": [
    {
     "name": "stdout",
     "output_type": "stream",
     "text": [
      "Logit Upsampled predictive accuracy: 0.77\n"
     ]
    }
   ],
   "source": [
    "y_pred_logit_us = logit_us.predict(X_test_dtm_us)\n",
    "print('Logit Upsampled predictive accuracy: {:.2f}'.format(logit_us.score(X_test_dtm_us, Y_test_us)))"
   ]
  },
  {
   "cell_type": "code",
   "execution_count": 41,
   "metadata": {
    "scrolled": true
   },
   "outputs": [
    {
     "name": "stdout",
     "output_type": "stream",
     "text": [
      "             precision    recall  f1-score   support\n",
      "\n",
      "          0       0.78      0.76      0.77     86439\n",
      "          1       0.77      0.79      0.78     87142\n",
      "\n",
      "avg / total       0.77      0.77      0.77    173581\n",
      "\n",
      "[[65606 20833]\n",
      " [18314 68828]]\n"
     ]
    }
   ],
   "source": [
    "# calculate precision and recall\n",
    "print(classification_report(Y_test_us, y_pred_logit_us))\n",
    "\n",
    "# calculate the confusion matrix\n",
    "logit_us_conf_mat = metrics.confusion_matrix(Y_test_us, y_pred_logit_us)\n",
    "print(logit_us_conf_mat)"
   ]
  },
  {
   "cell_type": "code",
   "execution_count": 42,
   "metadata": {
    "scrolled": true
   },
   "outputs": [
    {
     "data": {
      "image/png": "[encoded data removed]",
      "text/plain": [
       "<matplotlib.figure.Figure at 0x100262bf438>"
      ]
     },
     "metadata": {},
     "output_type": "display_data"
    }
   ],
   "source": [
    "logit_us_roc_auc = metrics.roc_auc_score(Y_test_us, y_pred_logit_us)\n",
    "fpr_logit_us, tpr_logit_us, thresholds_logit_us = metrics.roc_curve(\n",
    "    Y_test_us, logit_us.predict_proba(X_test_dtm_us)[:,1])\n",
    "plt.figure()\n",
    "plt.plot(fpr_logit_us, tpr_logit_us, label='Upsampled Logistic Regression (area = %0.2f)' % logit_us_roc_auc)\n",
    "plt.plot([0, 1], [0, 1],'r--')\n",
    "plt.xlim([0.0, 1.0])\n",
    "plt.ylim([0.0, 1.05])\n",
    "plt.xlabel('False Positive Rate')\n",
    "plt.ylabel('True Positive Rate')\n",
    "plt.title('Receiver operating characteristic')\n",
    "plt.legend(loc=\"lower right\")\n",
    "plt.savefig('Upsampled_Log_ROC')\n",
    "plt.show()"
   ]
  },
  {
   "cell_type": "markdown",
   "metadata": {},
   "source": [
    "### Decision Tree with Upsampled Data"
   ]
  },
  {
   "cell_type": "code",
   "execution_count": 43,
   "metadata": {},
   "outputs": [
    {
     "name": "stdout",
     "output_type": "stream",
     "text": [
      "Wall time: 19min 33s\n"
     ]
    }
   ],
   "source": [
    "dt_us = tree.DecisionTreeClassifier()\n",
    "%time dt_us = dt_us.fit(X_train_dtm_us, Y_train_us)"
   ]
  },
  {
   "cell_type": "code",
   "execution_count": 44,
   "metadata": {},
   "outputs": [
    {
     "name": "stdout",
     "output_type": "stream",
     "text": [
      "Dt Upsampled predictive accuracy: 0.97\n"
     ]
    }
   ],
   "source": [
    "y_pred_dt_us = dt_us.predict(X_test_dtm_us)\n",
    "print('Dt Upsampled predictive accuracy: {:.2f}'.format(dt_us.score(X_test_dtm_us, Y_test_us)))"
   ]
  },
  {
   "cell_type": "code",
   "execution_count": 45,
   "metadata": {
    "scrolled": true
   },
   "outputs": [
    {
     "name": "stdout",
     "output_type": "stream",
     "text": [
      "             precision    recall  f1-score   support\n",
      "\n",
      "          0       0.99      0.95      0.97     86439\n",
      "          1       0.95      0.99      0.97     87142\n",
      "\n",
      "avg / total       0.97      0.97      0.97    173581\n",
      "\n",
      "[[82288  4151]\n",
      " [  941 86201]]\n"
     ]
    }
   ],
   "source": [
    "# calculate precision and recall\n",
    "print(classification_report(Y_test_us, y_pred_dt_us))\n",
    "\n",
    "# calculate the confusion matrix\n",
    "dt_us_conf_mat = metrics.confusion_matrix(Y_test_us, y_pred_dt_us)\n",
    "print(dt_us_conf_mat)"
   ]
  },
  {
   "cell_type": "code",
   "execution_count": 46,
   "metadata": {
    "scrolled": true
   },
   "outputs": [
    {
     "data": {
      "image/png": "[encoded data removed]",
      "text/plain": [
       "<matplotlib.figure.Figure at 0x1002620ef60>"
      ]
     },
     "metadata": {},
     "output_type": "display_data"
    }
   ],
   "source": [
    "dt_us_roc_auc = metrics.roc_auc_score(Y_test_us, y_pred_dt_us)\n",
    "fpr_dt_us, tpr_dt_us, thresholds_dt_us = metrics.roc_curve(\n",
    "    Y_test_us, dt_us.predict_proba(X_test_dtm_us)[:,1])\n",
    "plt.figure()\n",
    "plt.plot(fpr_dt_us, tpr_dt_us, label='Upsampled Decision Tree (area = %0.2f)' % dt_us_roc_auc)\n",
    "plt.plot([0, 1], [0, 1],'r--')\n",
    "plt.xlim([0.0, 1.0])\n",
    "plt.ylim([0.0, 1.05])\n",
    "plt.xlabel('False Positive Rate')\n",
    "plt.ylabel('True Positive Rate')\n",
    "plt.title('Receiver operating characteristic')\n",
    "plt.legend(loc=\"lower right\")\n",
    "plt.savefig('Upsampled_DT_ROC')\n",
    "plt.show()"
   ]
  },
  {
   "cell_type": "code",
   "execution_count": 47,
   "metadata": {},
   "outputs": [],
   "source": [
    "mlp = MLPClassifier(solver='lbfgs', alpha=1e-5,\n",
    "                     hidden_layer_sizes=(5, 2), random_state=1)"
   ]
  },
  {
   "cell_type": "code",
   "execution_count": 48,
   "metadata": {
    "scrolled": true
   },
   "outputs": [
    {
     "name": "stdout",
     "output_type": "stream",
     "text": [
      "Wall time: 6min 25s\n"
     ]
    },
    {
     "data": {
      "text/plain": [
       "MLPClassifier(activation='relu', alpha=1e-05, batch_size='auto', beta_1=0.9,\n",
       "       beta_2=0.999, early_stopping=False, epsilon=1e-08,\n",
       "       hidden_layer_sizes=(5, 2), learning_rate='constant',\n",
       "       learning_rate_init=0.001, max_iter=200, momentum=0.9,\n",
       "       nesterovs_momentum=True, power_t=0.5, random_state=1, shuffle=True,\n",
       "       solver='lbfgs', tol=0.0001, validation_fraction=0.1, verbose=False,\n",
       "       warm_start=False)"
      ]
     },
     "execution_count": 48,
     "metadata": {},
     "output_type": "execute_result"
    }
   ],
   "source": [
    "%time mlp.fit(X_train_dtm_us, Y_train_us)"
   ]
  },
  {
   "cell_type": "code",
   "execution_count": 49,
   "metadata": {},
   "outputs": [
    {
     "name": "stdout",
     "output_type": "stream",
     "text": [
      "MLP Upsampled predictive accuracy: 0.76\n"
     ]
    }
   ],
   "source": [
    "y_pred_mlp_us = mlp.predict(X_test_dtm_us)\n",
    "print('MLP Upsampled predictive accuracy: {:.2f}'.format(mlp.score(X_test_dtm_us, Y_test_us)))"
   ]
  },
  {
   "cell_type": "code",
   "execution_count": 50,
   "metadata": {
    "scrolled": true
   },
   "outputs": [
    {
     "name": "stdout",
     "output_type": "stream",
     "text": [
      "             precision    recall  f1-score   support\n",
      "\n",
      "          0       0.77      0.73      0.75     86439\n",
      "          1       0.75      0.78      0.76     87142\n",
      "\n",
      "avg / total       0.76      0.76      0.76    173581\n",
      "\n",
      "[[63443 22996]\n",
      " [18924 68218]]\n"
     ]
    }
   ],
   "source": [
    "# calculate precision and recall\n",
    "print(classification_report(Y_test_us, y_pred_mlp_us))\n",
    "\n",
    "# calculate the confusion matrix\n",
    "mlp_us_conf_mat = metrics.confusion_matrix(Y_test_us, y_pred_mlp_us)\n",
    "print(mlp_us_conf_mat)"
   ]
  },
  {
   "cell_type": "code",
   "execution_count": 51,
   "metadata": {
    "scrolled": false
   },
   "outputs": [
    {
     "data": {
      "image/png": "[encoded data removed]",
      "text/plain": [
       "<matplotlib.figure.Figure at 0x100262c7be0>"
      ]
     },
     "metadata": {},
     "output_type": "display_data"
    }
   ],
   "source": [
    "mlp_us_roc_auc = metrics.roc_auc_score(Y_test_us, y_pred_mlp_us)\n",
    "fpr_mlp_us, tpr_mlp_us, thresholds_mlp_us = metrics.roc_curve(\n",
    "    Y_test_us, dt_us.predict_proba(X_test_dtm_us)[:,1])\n",
    "plt.figure()\n",
    "plt.plot(fpr_dt_us, tpr_dt_us, label='Upsampled MLP (area = %0.2f)' % dt_us_roc_auc)\n",
    "plt.plot([0, 1], [0, 1],'r--')\n",
    "plt.xlim([0.0, 1.0])\n",
    "plt.ylim([0.0, 1.05])\n",
    "plt.xlabel('False Positive Rate')\n",
    "plt.ylabel('True Positive Rate')\n",
    "plt.title('Receiver operating characteristic')\n",
    "plt.legend(loc=\"lower right\")\n",
    "plt.savefig('Upsampled_MLP_ROC')\n",
    "plt.show()"
   ]
  },
  {
   "cell_type": "markdown",
   "metadata": {},
   "source": [
    "### Grouping findings by patient"
   ]
  },
  {
   "cell_type": "code",
   "execution_count": 52,
   "metadata": {},
   "outputs": [],
   "source": [
    "data = train_dta_ild[['patient_id','findings_cleaned', 'ild_status']]"
   ]
  },
  {
   "cell_type": "code",
   "execution_count": 53,
   "metadata": {},
   "outputs": [
    {
     "name": "stdout",
     "output_type": "stream",
     "text": [
      "Wall time: 8.93 s\n"
     ]
    }
   ],
   "source": [
    "%time all_findings_data = pd.DataFrame({'all_findings_cleaned' : data.groupby(['patient_id','ild_status'])['findings_cleaned'].apply(lambda x: ''.join(x))}).reset_index()"
   ]
  },
  {
   "cell_type": "code",
   "execution_count": 54,
   "metadata": {},
   "outputs": [
    {
     "data": {
      "text/plain": [
       "82695"
      ]
     },
     "execution_count": 54,
     "metadata": {},
     "output_type": "execute_result"
    }
   ],
   "source": [
    "len(all_findings_data)"
   ]
  },
  {
   "cell_type": "code",
   "execution_count": 55,
   "metadata": {},
   "outputs": [
    {
     "data": {
      "text/plain": [
       "82695"
      ]
     },
     "execution_count": 55,
     "metadata": {},
     "output_type": "execute_result"
    }
   ],
   "source": [
    "len(data['patient_id'].unique())"
   ]
  },
  {
   "cell_type": "code",
   "execution_count": 56,
   "metadata": {},
   "outputs": [
    {
     "name": "stdout",
     "output_type": "stream",
     "text": [
      "Wall time: 18.2 s\n"
     ]
    }
   ],
   "source": [
    "%time all_findings_data.to_csv('all_findings_data.csv')"
   ]
  }
 ],
 "metadata": {
  "kernelspec": {
   "display_name": "Python 3",
   "language": "python",
   "name": "python3"
  },
  "language_info": {
   "codemirror_mode": {
    "name": "ipython",
    "version": 3
   },
   "file_extension": ".py",
   "mimetype": "text/x-python",
   "name": "python",
   "nbconvert_exporter": "python",
   "pygments_lexer": "ipython3",
   "version": "3.6.4"
  }
 },
 "nbformat": 4,
 "nbformat_minor": 2
}
