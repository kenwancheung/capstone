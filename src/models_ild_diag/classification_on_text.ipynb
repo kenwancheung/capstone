{
 "cells": [
  {
   "cell_type": "code",
   "execution_count": 2,
   "metadata": {},
   "outputs": [],
   "source": [
    "import nltk as nltk\n",
    "import nltk.corpus  \n",
    "from nltk.text import Text\n",
    "from nltk.corpus import stopwords\n",
    "import pandas as pd\n",
    "import re\n",
    "import sys\n",
    "import matplotlib.pyplot as plt\n",
    "import numpy as np\n",
    "import scikitplot as skplt\n",
    "\n",
    "from sklearn.model_selection import train_test_split\n",
    "from sklearn.feature_extraction.text import CountVectorizer, HashingVectorizer, TfidfTransformer, TfidfVectorizer\n",
    "from sklearn.naive_bayes import MultinomialNB\n",
    "from sklearn.metrics import classification_report, confusion_matrix, accuracy_score, roc_curve, roc_auc_score\n",
    "from sklearn.linear_model import LogisticRegression, SGDClassifier\n",
    "from sklearn import metrics\n"
   ]
  },
  {
   "cell_type": "markdown",
   "metadata": {},
   "source": [
    "### Read in data"
   ]
  },
  {
   "cell_type": "code",
   "execution_count": null,
   "metadata": {},
   "outputs": [],
   "source": [
    "# filename = \"/gpfs/data/ildproject-share/final_data/scored_data/avg_score_%s.csv\" % (str(datetime.datetime.now()).split('.')[0].replace(' ','_').replace(':','_'))\n",
    "filename = \"Z:/final_data/scored_data/avg_score_%s.csv\" % (str(datetime.datetime.now()).split('.')[0].replace(' ','_').replace(':','_'))"
   ]
  },
  {
   "cell_type": "code",
   "execution_count": 4,
   "metadata": {
    "scrolled": true
   },
   "outputs": [
    {
     "name": "stderr",
     "output_type": "stream",
     "text": [
      "C:\\ProgramData\\Anaconda3\\lib\\site-packages\\IPython\\core\\interactiveshell.py:2728: DtypeWarning: Columns (1,325) have mixed types. Specify dtype option on import or set low_memory=False.\n",
      "  interactivity=interactivity, compiler=compiler, result=result)\n"
     ]
    }
   ],
   "source": [
    "# with scored data\n",
    "# scored_rouged_df = pd.read_csv(\"/gpfs/data/ildproject-share/final_data/scored_data/scored_rouged_df.csv\")\n",
    "# scored_rouged_df = pd.read_csv(\"Z:/final_data/scored_data/scored_rouged_df.csv\")\n",
    "\n",
    "# train dat\n",
    "train_dta = pd.read_csv(\"Z:/final_data/cohorts_merged_training.csv\",keep_default_na=False)"
   ]
  },
  {
   "cell_type": "code",
   "execution_count": 5,
   "metadata": {},
   "outputs": [
    {
     "data": {
      "text/html": [
       "<div>\n",
       "<style scoped>\n",
       "    .dataframe tbody tr th:only-of-type {\n",
       "        vertical-align: middle;\n",
       "    }\n",
       "\n",
       "    .dataframe tbody tr th {\n",
       "        vertical-align: top;\n",
       "    }\n",
       "\n",
       "    .dataframe thead th {\n",
       "        text-align: right;\n",
       "    }\n",
       "</style>\n",
       "<table border=\"1\" class=\"dataframe\">\n",
       "  <thead>\n",
       "    <tr style=\"text-align: right;\">\n",
       "      <th></th>\n",
       "      <th>patient_id</th>\n",
       "      <th>age_at_last_encounter</th>\n",
       "      <th>gender</th>\n",
       "      <th>race</th>\n",
       "      <th>ethnicity</th>\n",
       "      <th>date_of_death</th>\n",
       "      <th>encounter_id</th>\n",
       "      <th>enc_eio</th>\n",
       "      <th>visit_status_1</th>\n",
       "      <th>visit_status_2</th>\n",
       "      <th>...</th>\n",
       "      <th>technique</th>\n",
       "      <th>comparison</th>\n",
       "      <th>findings</th>\n",
       "      <th>impressions</th>\n",
       "      <th>elecsig</th>\n",
       "      <th>patient_raw</th>\n",
       "      <th>rawtext</th>\n",
       "      <th>encounter_id_diagnosed</th>\n",
       "      <th>date_diagnosed</th>\n",
       "      <th>ild_status</th>\n",
       "    </tr>\n",
       "  </thead>\n",
       "  <tbody>\n",
       "    <tr>\n",
       "      <th>0</th>\n",
       "      <td>49</td>\n",
       "      <td>79</td>\n",
       "      <td>M</td>\n",
       "      <td>White</td>\n",
       "      <td>Not Hispanic or Latino</td>\n",
       "      <td></td>\n",
       "      <td>4860489</td>\n",
       "      <td>O</td>\n",
       "      <td>Completed</td>\n",
       "      <td></td>\n",
       "      <td>...</td>\n",
       "      <td></td>\n",
       "      <td></td>\n",
       "      <td></td>\n",
       "      <td></td>\n",
       "      <td></td>\n",
       "      <td></td>\n",
       "      <td></td>\n",
       "      <td>4860489</td>\n",
       "      <td>2012-07-17</td>\n",
       "      <td>1</td>\n",
       "    </tr>\n",
       "    <tr>\n",
       "      <th>1</th>\n",
       "      <td>49</td>\n",
       "      <td>79</td>\n",
       "      <td>M</td>\n",
       "      <td>White</td>\n",
       "      <td>Not Hispanic or Latino</td>\n",
       "      <td></td>\n",
       "      <td>4860489</td>\n",
       "      <td>O</td>\n",
       "      <td>Completed</td>\n",
       "      <td></td>\n",
       "      <td>...</td>\n",
       "      <td></td>\n",
       "      <td></td>\n",
       "      <td></td>\n",
       "      <td></td>\n",
       "      <td></td>\n",
       "      <td></td>\n",
       "      <td></td>\n",
       "      <td></td>\n",
       "      <td></td>\n",
       "      <td>0</td>\n",
       "    </tr>\n",
       "    <tr>\n",
       "      <th>2</th>\n",
       "      <td>49</td>\n",
       "      <td>79</td>\n",
       "      <td>M</td>\n",
       "      <td>White</td>\n",
       "      <td>Not Hispanic or Latino</td>\n",
       "      <td></td>\n",
       "      <td>4860489</td>\n",
       "      <td>O</td>\n",
       "      <td>Completed</td>\n",
       "      <td></td>\n",
       "      <td>...</td>\n",
       "      <td>XR CHEST PA/LATERAL</td>\n",
       "      <td>**DATE&lt;[**2014-07-23**]&gt;.</td>\n",
       "      <td>Left-sided AICD are unchanged. Sternal wires a...</td>\n",
       "      <td>No acute cardiopulmonary process.</td>\n",
       "      <td>**NAME&lt;AAA BBB&gt;, MD  I personally reviewed the...</td>\n",
       "      <td>4860489_1099048</td>\n",
       "      <td>XR CHEST PA/LATERAL, **DATE&lt;[**2015-01-12**]&gt; ...</td>\n",
       "      <td>4860489</td>\n",
       "      <td>2012-07-17</td>\n",
       "      <td>1</td>\n",
       "    </tr>\n",
       "    <tr>\n",
       "      <th>3</th>\n",
       "      <td>49</td>\n",
       "      <td>79</td>\n",
       "      <td>M</td>\n",
       "      <td>White</td>\n",
       "      <td>Not Hispanic or Latino</td>\n",
       "      <td></td>\n",
       "      <td>4860489</td>\n",
       "      <td>O</td>\n",
       "      <td>Completed</td>\n",
       "      <td></td>\n",
       "      <td>...</td>\n",
       "      <td>XR CHEST PA/LATERAL</td>\n",
       "      <td>**DATE&lt;[**2014-07-23**]&gt;.</td>\n",
       "      <td>Left-sided AICD are unchanged. Sternal wires a...</td>\n",
       "      <td>No acute cardiopulmonary process.</td>\n",
       "      <td>**NAME&lt;AAA BBB&gt;, MD  I personally reviewed the...</td>\n",
       "      <td>4860489_1099048</td>\n",
       "      <td>XR CHEST PA/LATERAL, **DATE&lt;[**2015-01-12**]&gt; ...</td>\n",
       "      <td></td>\n",
       "      <td></td>\n",
       "      <td>0</td>\n",
       "    </tr>\n",
       "    <tr>\n",
       "      <th>4</th>\n",
       "      <td>49</td>\n",
       "      <td>79</td>\n",
       "      <td>M</td>\n",
       "      <td>White</td>\n",
       "      <td>Not Hispanic or Latino</td>\n",
       "      <td></td>\n",
       "      <td>7460089</td>\n",
       "      <td>I</td>\n",
       "      <td>Completed</td>\n",
       "      <td></td>\n",
       "      <td>...</td>\n",
       "      <td>XR CHEST PA/LATERAL</td>\n",
       "      <td>**DATE&lt;[**2018-06-03**]&gt;</td>\n",
       "      <td>Right Port-A-Cath and left-sided ICD unchanged...</td>\n",
       "      <td>Stable chronic appearing right basilar opaciti...</td>\n",
       "      <td>**DATE&lt;[**2018-08-28**]&gt; 9:01 AM **NAME&lt;III JJ...</td>\n",
       "      <td>7460089_116541</td>\n",
       "      <td>XR CHEST PA/LATERAL, **DATE&lt;[**2018-08-27**]&gt; ...</td>\n",
       "      <td></td>\n",
       "      <td></td>\n",
       "      <td>0</td>\n",
       "    </tr>\n",
       "  </tbody>\n",
       "</table>\n",
       "<p>5 rows × 341 columns</p>\n",
       "</div>"
      ],
      "text/plain": [
       "   patient_id age_at_last_encounter gender   race               ethnicity  \\\n",
       "0          49                    79      M  White  Not Hispanic or Latino   \n",
       "1          49                    79      M  White  Not Hispanic or Latino   \n",
       "2          49                    79      M  White  Not Hispanic or Latino   \n",
       "3          49                    79      M  White  Not Hispanic or Latino   \n",
       "4          49                    79      M  White  Not Hispanic or Latino   \n",
       "\n",
       "  date_of_death  encounter_id enc_eio visit_status_1 visit_status_2  \\\n",
       "0                     4860489       O      Completed                  \n",
       "1                     4860489       O      Completed                  \n",
       "2                     4860489       O      Completed                  \n",
       "3                     4860489       O      Completed                  \n",
       "4                     7460089       I      Completed                  \n",
       "\n",
       "     ...                technique                 comparison  \\\n",
       "0    ...                                                       \n",
       "1    ...                                                       \n",
       "2    ...      XR CHEST PA/LATERAL  **DATE<[**2014-07-23**]>.   \n",
       "3    ...      XR CHEST PA/LATERAL  **DATE<[**2014-07-23**]>.   \n",
       "4    ...      XR CHEST PA/LATERAL   **DATE<[**2018-06-03**]>   \n",
       "\n",
       "                                            findings  \\\n",
       "0                                                      \n",
       "1                                                      \n",
       "2  Left-sided AICD are unchanged. Sternal wires a...   \n",
       "3  Left-sided AICD are unchanged. Sternal wires a...   \n",
       "4  Right Port-A-Cath and left-sided ICD unchanged...   \n",
       "\n",
       "                                         impressions  \\\n",
       "0                                                      \n",
       "1                                                      \n",
       "2                  No acute cardiopulmonary process.   \n",
       "3                  No acute cardiopulmonary process.   \n",
       "4  Stable chronic appearing right basilar opaciti...   \n",
       "\n",
       "                                             elecsig       patient_raw  \\\n",
       "0                                                                        \n",
       "1                                                                        \n",
       "2  **NAME<AAA BBB>, MD  I personally reviewed the...   4860489_1099048   \n",
       "3  **NAME<AAA BBB>, MD  I personally reviewed the...   4860489_1099048   \n",
       "4  **DATE<[**2018-08-28**]> 9:01 AM **NAME<III JJ...    7460089_116541   \n",
       "\n",
       "                                             rawtext encounter_id_diagnosed  \\\n",
       "0                                                                   4860489   \n",
       "1                                                                             \n",
       "2  XR CHEST PA/LATERAL, **DATE<[**2015-01-12**]> ...                4860489   \n",
       "3  XR CHEST PA/LATERAL, **DATE<[**2015-01-12**]> ...                          \n",
       "4  XR CHEST PA/LATERAL, **DATE<[**2018-08-27**]> ...                          \n",
       "\n",
       "  date_diagnosed ild_status  \n",
       "0     2012-07-17          1  \n",
       "1                         0  \n",
       "2     2012-07-17          1  \n",
       "3                         0  \n",
       "4                         0  \n",
       "\n",
       "[5 rows x 341 columns]"
      ]
     },
     "execution_count": 5,
     "metadata": {},
     "output_type": "execute_result"
    }
   ],
   "source": [
    "train_dta.head()"
   ]
  },
  {
   "cell_type": "code",
   "execution_count": null,
   "metadata": {},
   "outputs": [],
   "source": [
    "X = np.array(reason.reason)\n",
    "Y = np.array(reason.results_flg)\n",
    "print(X.shape)\n",
    "print(Y.shape)\n"
   ]
  },
  {
   "cell_type": "code",
   "execution_count": null,
   "metadata": {},
   "outputs": [],
   "source": [
    "X_train, X_test, Y_train, Y_test = train_test_split(X,Y,random_state=1)\n",
    "print(X_train.shape)\n",
    "print(X_test.shape)\n"
   ]
  },
  {
   "cell_type": "code",
   "execution_count": null,
   "metadata": {},
   "outputs": [],
   "source": [
    "vect = CountVectorizer()\n",
    "vect.fit(X_train)\n",
    "X_train_dtm = vect.transform(X_train)\n"
   ]
  },
  {
   "cell_type": "code",
   "execution_count": null,
   "metadata": {},
   "outputs": [],
   "source": [
    "# test\n",
    "X_test_dtm = vect.transform(np.array(X_test))\n",
    "X_test_dtm\n"
   ]
  },
  {
   "cell_type": "markdown",
   "metadata": {},
   "source": [
    "## Model building"
   ]
  },
  {
   "cell_type": "markdown",
   "metadata": {},
   "source": [
    "#### Naive bayes"
   ]
  },
  {
   "cell_type": "code",
   "execution_count": 6,
   "metadata": {},
   "outputs": [
    {
     "ename": "NameError",
     "evalue": "name 'X_train_dtm' is not defined",
     "output_type": "error",
     "traceback": [
      "\u001b[1;31m---------------------------------------------------------------------------\u001b[0m",
      "\u001b[1;31mNameError\u001b[0m                                 Traceback (most recent call last)",
      "\u001b[1;32m<timed eval>\u001b[0m in \u001b[0;36m<module>\u001b[1;34m()\u001b[0m\n",
      "\u001b[1;31mNameError\u001b[0m: name 'X_train_dtm' is not defined"
     ]
    },
    {
     "ename": "NameError",
     "evalue": "name 'X_test_dtm' is not defined",
     "output_type": "error",
     "traceback": [
      "\u001b[1;31m---------------------------------------------------------------------------\u001b[0m",
      "\u001b[1;31mNameError\u001b[0m                                 Traceback (most recent call last)",
      "\u001b[1;32m<ipython-input-6-5853609e3e5c>\u001b[0m in \u001b[0;36m<module>\u001b[1;34m()\u001b[0m\n\u001b[0;32m      5\u001b[0m \u001b[1;31m# predict\u001b[0m\u001b[1;33m\u001b[0m\u001b[1;33m\u001b[0m\u001b[0m\n\u001b[0;32m      6\u001b[0m \u001b[1;31m# class preds\u001b[0m\u001b[1;33m\u001b[0m\u001b[1;33m\u001b[0m\u001b[0m\n\u001b[1;32m----> 7\u001b[1;33m \u001b[0mY_pred_class_nb\u001b[0m \u001b[1;33m=\u001b[0m \u001b[0mnb\u001b[0m\u001b[1;33m.\u001b[0m\u001b[0mpredict\u001b[0m\u001b[1;33m(\u001b[0m\u001b[0mX_test_dtm\u001b[0m\u001b[1;33m)\u001b[0m\u001b[1;33m\u001b[0m\u001b[0m\n\u001b[0m",
      "\u001b[1;31mNameError\u001b[0m: name 'X_test_dtm' is not defined"
     ]
    }
   ],
   "source": [
    "nb = MultinomialNB()\n",
    "# train and time the model using X_train_dtm\n",
    "%time nb.fit(X_train_dtm, Y_train)"
   ]
  },
  {
   "cell_type": "code",
   "execution_count": null,
   "metadata": {},
   "outputs": [],
   "source": [
    "# class preds\n",
    "Y_pred_class_nb = nb.predict(X_test_dtm)\n",
    "\n",
    "# calculate accuracy of class predictions\n",
    "print(metrics.accuracy_score(Y_test, Y_pred_class_nb))"
   ]
  },
  {
   "cell_type": "code",
   "execution_count": null,
   "metadata": {},
   "outputs": [],
   "source": [
    "# calculate precision and recall\n",
    "print(classification_report(Y_test, Y_pred_class_nb))\n",
    "\n",
    "# calculate the confusion matrix\n",
    "print(metrics.confusion_matrix(Y_test, Y_pred_class_nb))\n",
    "\n",
    "fpr, tpr, thresholds = metrics.roc_curve(Y_test, Y_pred_class_nb, pos_label=0)\n",
    "\n",
    "# Print ROC curve\n",
    "plt.plot(fpr,tpr)\n",
    "plt.show() \n",
    "\n",
    "# Print AUC\n",
    "auc = np.trapz(tpr,fpr)\n",
    "print('AUC:', auc)"
   ]
  }
 ],
 "metadata": {
  "kernelspec": {
   "display_name": "Python 3",
   "language": "python",
   "name": "python3"
  },
  "language_info": {
   "codemirror_mode": {
    "name": "ipython",
    "version": 3
   },
   "file_extension": ".py",
   "mimetype": "text/x-python",
   "name": "python",
   "nbconvert_exporter": "python",
   "pygments_lexer": "ipython3",
   "version": "3.6.4"
  }
 },
 "nbformat": 4,
 "nbformat_minor": 2
}
