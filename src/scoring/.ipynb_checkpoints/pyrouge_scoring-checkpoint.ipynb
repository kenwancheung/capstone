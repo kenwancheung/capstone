{
 "cells": [
  {
   "cell_type": "code",
   "execution_count": 217,
   "metadata": {},
   "outputs": [],
   "source": [
    "from rouge import Rouge, FilesRouge\n",
    "import pandas as pd\n",
    "import numpy as np\n",
    "\n",
    "hypothesis = \"the #### transcript is a written version of each day 's cnn student news program use this transcript to he    lp students with reading comprehension and vocabulary use the weekly newsquiz to test your knowledge of storie s you     saw on cnn student news\"\n",
    "\n",
    "reference = \"this page includes the show transcript use the transcript to help students with reading comprehension and     vocabulary at the bottom of the page , comment for a chance to be mentioned on cnn student news . you must be a teac    her or a student age # # or older to request a mention on the cnn student news roll call . the weekly newsquiz tests     students ' knowledge of even ts in the news\"\n",
    "\n",
    "rouge = Rouge()\n",
    "scores = rouge.get_scores(hypothesis, reference)"
   ]
  },
  {
   "cell_type": "code",
   "execution_count": 107,
   "metadata": {
    "scrolled": false
   },
   "outputs": [
    {
     "name": "stdout",
     "output_type": "stream",
     "text": [
      "[{'rouge-1': {'f': 0.49411764217577864, 'p': 0.5833333333333334, 'r': 0.42857142857142855}, 'rouge-2': {'f': 0.23423422957552154, 'p': 0.3170731707317073, 'r': 0.18571428571428572}, 'rouge-l': {'f': 0.42751590030718895, 'p': 0.5277777777777778, 'r': 0.3877551020408163}}]\n"
     ]
    }
   ],
   "source": [
    "print(scores)"
   ]
  },
  {
   "cell_type": "code",
   "execution_count": 71,
   "metadata": {},
   "outputs": [],
   "source": [
    "d = {'pred': [hypothesis], 'actuals': [reference]}"
   ]
  },
  {
   "cell_type": "code",
   "execution_count": 72,
   "metadata": {},
   "outputs": [],
   "source": [
    "notes = pd.DataFrame(data=d,columns=[\"pred\",\"actuals\"])"
   ]
  },
  {
   "cell_type": "code",
   "execution_count": 73,
   "metadata": {
    "scrolled": false
   },
   "outputs": [
    {
     "data": {
      "text/html": [
       "<div>\n",
       "<style scoped>\n",
       "    .dataframe tbody tr th:only-of-type {\n",
       "        vertical-align: middle;\n",
       "    }\n",
       "\n",
       "    .dataframe tbody tr th {\n",
       "        vertical-align: top;\n",
       "    }\n",
       "\n",
       "    .dataframe thead th {\n",
       "        text-align: right;\n",
       "    }\n",
       "</style>\n",
       "<table border=\"1\" class=\"dataframe\">\n",
       "  <thead>\n",
       "    <tr style=\"text-align: right;\">\n",
       "      <th></th>\n",
       "      <th>pred</th>\n",
       "      <th>actuals</th>\n",
       "    </tr>\n",
       "  </thead>\n",
       "  <tbody>\n",
       "    <tr>\n",
       "      <th>0</th>\n",
       "      <td>the #### transcript is a written version of ea...</td>\n",
       "      <td>this page includes the show transcript use the...</td>\n",
       "    </tr>\n",
       "  </tbody>\n",
       "</table>\n",
       "</div>"
      ],
      "text/plain": [
       "                                                pred  \\\n",
       "0  the #### transcript is a written version of ea...   \n",
       "\n",
       "                                             actuals  \n",
       "0  this page includes the show transcript use the...  "
      ]
     },
     "execution_count": 73,
     "metadata": {},
     "output_type": "execute_result"
    }
   ],
   "source": [
    "notes"
   ]
  },
  {
   "cell_type": "code",
   "execution_count": 74,
   "metadata": {
    "scrolled": false
   },
   "outputs": [
    {
     "data": {
      "text/plain": [
       "[{'rouge-1': {'f': 0.49411764217577864,\n",
       "   'p': 0.5833333333333334,\n",
       "   'r': 0.42857142857142855},\n",
       "  'rouge-2': {'f': 0.23423422957552154,\n",
       "   'p': 0.3170731707317073,\n",
       "   'r': 0.18571428571428572},\n",
       "  'rouge-l': {'f': 0.42751590030718895,\n",
       "   'p': 0.5277777777777778,\n",
       "   'r': 0.3877551020408163}}]"
      ]
     },
     "execution_count": 74,
     "metadata": {},
     "output_type": "execute_result"
    }
   ],
   "source": [
    "# test df\n",
    "rouge.get_scores(notes.pred,notes.actuals)"
   ]
  },
  {
   "cell_type": "code",
   "execution_count": 75,
   "metadata": {},
   "outputs": [
    {
     "data": {
      "text/plain": [
       "pandas.core.series.Series"
      ]
     },
     "execution_count": 75,
     "metadata": {},
     "output_type": "execute_result"
    }
   ],
   "source": [
    "type(notes.pred)"
   ]
  },
  {
   "cell_type": "code",
   "execution_count": 94,
   "metadata": {},
   "outputs": [],
   "source": [
    "def test_rouge(df):\n",
    "    for index,row in df.iterrows():\n",
    "        print(row)\n",
    "        print(row['pred'],row['actuals'])\n",
    "        rougescore = rouge.get_scores(row['pred'],row['actuals'])\n",
    "        print(rougescore)"
   ]
  },
  {
   "cell_type": "code",
   "execution_count": 95,
   "metadata": {
    "scrolled": true
   },
   "outputs": [
    {
     "name": "stdout",
     "output_type": "stream",
     "text": [
      "pred       the #### transcript is a written version of ea...\n",
      "actuals    this page includes the show transcript use the...\n",
      "Name: 0, dtype: object\n",
      "the #### transcript is a written version of each day 's cnn student news program use this transcript to he    lp students with reading comprehension and vocabulary use the weekly newsquiz to test your knowledge of storie s you     saw on cnn student news this page includes the show transcript use the transcript to help students with reading comprehension and     vocabulary at the bottom of the page , comment for a chance to be mentioned on cnn student news . you must be a teac    her or a student age # # or older to request a mention on the cnn student news roll call . the weekly newsquiz tests     students ' knowledge of even ts in the news\n",
      "[{'rouge-1': {'f': 0.49411764217577864, 'p': 0.5833333333333334, 'r': 0.42857142857142855}, 'rouge-2': {'f': 0.23423422957552154, 'p': 0.3170731707317073, 'r': 0.18571428571428572}, 'rouge-l': {'f': 0.42751590030718895, 'p': 0.5277777777777778, 'r': 0.3877551020408163}}]\n"
     ]
    }
   ],
   "source": [
    "test_rouge(notes)"
   ]
  },
  {
   "cell_type": "code",
   "execution_count": 84,
   "metadata": {},
   "outputs": [],
   "source": [
    "# now more rows"
   ]
  },
  {
   "cell_type": "code",
   "execution_count": 89,
   "metadata": {},
   "outputs": [],
   "source": [
    "d2 = {'pred': [hypothesis,hypothesis], 'actuals': [hypothesis,reference]}\n",
    "notes2 = pd.DataFrame(data=d2,columns=[\"pred\",\"actuals\"])"
   ]
  },
  {
   "cell_type": "code",
   "execution_count": 91,
   "metadata": {},
   "outputs": [
    {
     "data": {
      "text/html": [
       "<div>\n",
       "<style scoped>\n",
       "    .dataframe tbody tr th:only-of-type {\n",
       "        vertical-align: middle;\n",
       "    }\n",
       "\n",
       "    .dataframe tbody tr th {\n",
       "        vertical-align: top;\n",
       "    }\n",
       "\n",
       "    .dataframe thead th {\n",
       "        text-align: right;\n",
       "    }\n",
       "</style>\n",
       "<table border=\"1\" class=\"dataframe\">\n",
       "  <thead>\n",
       "    <tr style=\"text-align: right;\">\n",
       "      <th></th>\n",
       "      <th>pred</th>\n",
       "      <th>actuals</th>\n",
       "    </tr>\n",
       "  </thead>\n",
       "  <tbody>\n",
       "    <tr>\n",
       "      <th>0</th>\n",
       "      <td>the #### transcript is a written version of ea...</td>\n",
       "      <td>the #### transcript is a written version of ea...</td>\n",
       "    </tr>\n",
       "    <tr>\n",
       "      <th>1</th>\n",
       "      <td>the #### transcript is a written version of ea...</td>\n",
       "      <td>this page includes the show transcript use the...</td>\n",
       "    </tr>\n",
       "  </tbody>\n",
       "</table>\n",
       "</div>"
      ],
      "text/plain": [
       "                                                pred  \\\n",
       "0  the #### transcript is a written version of ea...   \n",
       "1  the #### transcript is a written version of ea...   \n",
       "\n",
       "                                             actuals  \n",
       "0  the #### transcript is a written version of ea...  \n",
       "1  this page includes the show transcript use the...  "
      ]
     },
     "execution_count": 91,
     "metadata": {},
     "output_type": "execute_result"
    }
   ],
   "source": [
    "notes2"
   ]
  },
  {
   "cell_type": "code",
   "execution_count": 96,
   "metadata": {
    "scrolled": false
   },
   "outputs": [
    {
     "name": "stdout",
     "output_type": "stream",
     "text": [
      "pred       the #### transcript is a written version of ea...\n",
      "actuals    the #### transcript is a written version of ea...\n",
      "Name: 0, dtype: object\n",
      "the #### transcript is a written version of each day 's cnn student news program use this transcript to he    lp students with reading comprehension and vocabulary use the weekly newsquiz to test your knowledge of storie s you     saw on cnn student news the #### transcript is a written version of each day 's cnn student news program use this transcript to he    lp students with reading comprehension and vocabulary use the weekly newsquiz to test your knowledge of storie s you     saw on cnn student news\n",
      "[{'rouge-1': {'f': 0.999999995, 'p': 1.0, 'r': 1.0}, 'rouge-2': {'f': 0.999999995, 'p': 1.0, 'r': 1.0}, 'rouge-l': {'f': 0.9999999999995, 'p': 1.0, 'r': 1.0}}]\n",
      "pred       the #### transcript is a written version of ea...\n",
      "actuals    this page includes the show transcript use the...\n",
      "Name: 1, dtype: object\n",
      "the #### transcript is a written version of each day 's cnn student news program use this transcript to he    lp students with reading comprehension and vocabulary use the weekly newsquiz to test your knowledge of storie s you     saw on cnn student news this page includes the show transcript use the transcript to help students with reading comprehension and     vocabulary at the bottom of the page , comment for a chance to be mentioned on cnn student news . you must be a teac    her or a student age # # or older to request a mention on the cnn student news roll call . the weekly newsquiz tests     students ' knowledge of even ts in the news\n",
      "[{'rouge-1': {'f': 0.49411764217577864, 'p': 0.5833333333333334, 'r': 0.42857142857142855}, 'rouge-2': {'f': 0.23423422957552154, 'p': 0.3170731707317073, 'r': 0.18571428571428572}, 'rouge-l': {'f': 0.42751590030718895, 'p': 0.5277777777777778, 'r': 0.3877551020408163}}]\n"
     ]
    }
   ],
   "source": [
    "test_rouge(notes2)"
   ]
  },
  {
   "cell_type": "code",
   "execution_count": 308,
   "metadata": {
    "scrolled": true
   },
   "outputs": [
    {
     "data": {
      "text/html": [
       "<div>\n",
       "<style scoped>\n",
       "    .dataframe tbody tr th:only-of-type {\n",
       "        vertical-align: middle;\n",
       "    }\n",
       "\n",
       "    .dataframe tbody tr th {\n",
       "        vertical-align: top;\n",
       "    }\n",
       "\n",
       "    .dataframe thead th {\n",
       "        text-align: right;\n",
       "    }\n",
       "</style>\n",
       "<table border=\"1\" class=\"dataframe\">\n",
       "  <thead>\n",
       "    <tr style=\"text-align: right;\">\n",
       "      <th></th>\n",
       "      <th>pred</th>\n",
       "      <th>actuals</th>\n",
       "    </tr>\n",
       "  </thead>\n",
       "  <tbody>\n",
       "    <tr>\n",
       "      <th>0</th>\n",
       "      <td>the #### transcript is a written version of ea...</td>\n",
       "      <td>the #### transcript is a written version of ea...</td>\n",
       "    </tr>\n",
       "    <tr>\n",
       "      <th>1</th>\n",
       "      <td>the #### transcript is a written version of ea...</td>\n",
       "      <td>this page includes the show transcript use the...</td>\n",
       "    </tr>\n",
       "  </tbody>\n",
       "</table>\n",
       "</div>"
      ],
      "text/plain": [
       "                                                pred  \\\n",
       "0  the #### transcript is a written version of ea...   \n",
       "1  the #### transcript is a written version of ea...   \n",
       "\n",
       "                                             actuals  \n",
       "0  the #### transcript is a written version of ea...  \n",
       "1  this page includes the show transcript use the...  "
      ]
     },
     "execution_count": 308,
     "metadata": {},
     "output_type": "execute_result"
    }
   ],
   "source": [
    "notes2"
   ]
  },
  {
   "cell_type": "markdown",
   "metadata": {},
   "source": [
    "# now let's get a full function to take any given df, define rows of pred and actuals and score them, and append to a df"
   ]
  },
  {
   "cell_type": "code",
   "execution_count": 359,
   "metadata": {},
   "outputs": [],
   "source": [
    "def score_data(df, predicted, actuals):\n",
    "    for index,row in df.iterrows():\n",
    "#         print(row)\n",
    "        print(\"[info] Predicted\")\n",
    "        print(row[predicted])\n",
    "        print(\"[info] Predicted\")\n",
    "        print(row[actuals])\n",
    "        rougescore = rouge.get_scores(row[predicted],row[actuals])\n",
    "        tmpdf = pd.DataFrame(rougescore)\n",
    "        print(\"[info] now appending to list with reshape\")\n",
    "        for row in tmpdf:\n",
    "            scorelist.append(tmpdf[row].apply(pd.Series).values[0])"
   ]
  },
  {
   "cell_type": "code",
   "execution_count": 360,
   "metadata": {
    "scrolled": false
   },
   "outputs": [
    {
     "name": "stdout",
     "output_type": "stream",
     "text": [
      "[info] Predicted\n",
      "the #### transcript is a written version of each day 's cnn student news program use this transcript to he    lp students with reading comprehension and vocabulary use the weekly newsquiz to test your knowledge of storie s you     saw on cnn student news\n",
      "[info] Predicted\n",
      "the #### transcript is a written version of each day 's cnn student news program use this transcript to he    lp students with reading comprehension and vocabulary use the weekly newsquiz to test your knowledge of storie s you     saw on cnn student news\n",
      "[info] now appending to list with reshape\n",
      "[info] Predicted\n",
      "the #### transcript is a written version of each day 's cnn student news program use this transcript to he    lp students with reading comprehension and vocabulary use the weekly newsquiz to test your knowledge of storie s you     saw on cnn student news\n",
      "[info] Predicted\n",
      "this page includes the show transcript use the transcript to help students with reading comprehension and     vocabulary at the bottom of the page , comment for a chance to be mentioned on cnn student news . you must be a teac    her or a student age # # or older to request a mention on the cnn student news roll call . the weekly newsquiz tests     students ' knowledge of even ts in the news\n",
      "[info] now appending to list with reshape\n"
     ]
    }
   ],
   "source": [
    "# get np array now of rouge scores\n",
    "scorelist = []\n",
    "score_data(notes2,'pred','actuals')"
   ]
  },
  {
   "cell_type": "code",
   "execution_count": 363,
   "metadata": {},
   "outputs": [
    {
     "data": {
      "text/html": [
       "<div>\n",
       "<style scoped>\n",
       "    .dataframe tbody tr th:only-of-type {\n",
       "        vertical-align: middle;\n",
       "    }\n",
       "\n",
       "    .dataframe tbody tr th {\n",
       "        vertical-align: top;\n",
       "    }\n",
       "\n",
       "    .dataframe thead th {\n",
       "        text-align: right;\n",
       "    }\n",
       "</style>\n",
       "<table border=\"1\" class=\"dataframe\">\n",
       "  <thead>\n",
       "    <tr style=\"text-align: right;\">\n",
       "      <th></th>\n",
       "      <th>rouge-1-f</th>\n",
       "      <th>rouge-1-p</th>\n",
       "      <th>rouge-1-r</th>\n",
       "      <th>rouge-2-f</th>\n",
       "      <th>rouge-2-p</th>\n",
       "      <th>rouge-2-r</th>\n",
       "      <th>rouge-l-f</th>\n",
       "      <th>rouge-2-p</th>\n",
       "      <th>rouge-2-r</th>\n",
       "    </tr>\n",
       "  </thead>\n",
       "  <tbody>\n",
       "    <tr>\n",
       "      <th>0</th>\n",
       "      <td>1.000000</td>\n",
       "      <td>1.000000</td>\n",
       "      <td>1.000000</td>\n",
       "      <td>1.000000</td>\n",
       "      <td>1.000000</td>\n",
       "      <td>1.000000</td>\n",
       "      <td>1.000000</td>\n",
       "      <td>1.000000</td>\n",
       "      <td>1.000000</td>\n",
       "    </tr>\n",
       "    <tr>\n",
       "      <th>1</th>\n",
       "      <td>0.494118</td>\n",
       "      <td>0.583333</td>\n",
       "      <td>0.428571</td>\n",
       "      <td>0.234234</td>\n",
       "      <td>0.317073</td>\n",
       "      <td>0.185714</td>\n",
       "      <td>0.427516</td>\n",
       "      <td>0.527778</td>\n",
       "      <td>0.387755</td>\n",
       "    </tr>\n",
       "  </tbody>\n",
       "</table>\n",
       "</div>"
      ],
      "text/plain": [
       "   rouge-1-f  rouge-1-p  rouge-1-r  rouge-2-f  rouge-2-p  rouge-2-r  \\\n",
       "0   1.000000   1.000000   1.000000   1.000000   1.000000   1.000000   \n",
       "1   0.494118   0.583333   0.428571   0.234234   0.317073   0.185714   \n",
       "\n",
       "   rouge-l-f  rouge-2-p  rouge-2-r  \n",
       "0   1.000000   1.000000   1.000000  \n",
       "1   0.427516   0.527778   0.387755  "
      ]
     },
     "execution_count": 363,
     "metadata": {},
     "output_type": "execute_result"
    }
   ],
   "source": [
    "# assign\n",
    "score_df = pd.DataFrame(np.array(scorelist).reshape(int(len(scorelist)/3),9),columns=['rouge-1-f','rouge-1-p','rouge-1-r','rouge-2-f','rouge-2-p','rouge-2-r','rouge-l-f','rouge-2-p','rouge-2-r'])\n",
    "score_df.head()"
   ]
  },
  {
   "cell_type": "code",
   "execution_count": null,
   "metadata": {},
   "outputs": [],
   "source": []
  }
 ],
 "metadata": {
  "kernelspec": {
   "display_name": "Python 3",
   "language": "python",
   "name": "python3"
  },
  "language_info": {
   "codemirror_mode": {
    "name": "ipython",
    "version": 3
   },
   "file_extension": ".py",
   "mimetype": "text/x-python",
   "name": "python",
   "nbconvert_exporter": "python",
   "pygments_lexer": "ipython3",
   "version": "3.6.4"
  }
 },
 "nbformat": 4,
 "nbformat_minor": 2
}
